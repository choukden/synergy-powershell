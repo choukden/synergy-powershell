{
 "cells": [
  {
   "cell_type": "markdown",
   "metadata": {},
   "source": [
    "# Welcome to the Synergy Roundtable\n",
    "created by Stephan Koch & Dirk Derichsweiler - 01/11/2018<br>\n",
    "do not hesitate to contact us: stephan.koch@hpe.com or dirk.derichsweiler@hpe.com\n",
    "\n",
    "\n",
    "\n",
    "jupyter Notebook can be found: https://github.com/dderichswei/synergy\n",
    "\n",
    "\n",
    "#### requirements\n",
    "- Anaconda (Python) recommended (for the Jupyter installation and pip)\n",
    "- Jupyter-Powershell (https://github.com/vors/jupyter-powershell)\n",
    "\n",
    "\n",
    "#### additional information\n",
    "\n",
    "On your HPE OneView appliance, or online<br>\n",
    "https://10.0.20.50/help/cic-rest/en/content/index.html#home.html<br>\n",
    "https://10.0.20.50/api-docs/current/ <br>\n",
    "http://www.hpe.com/info/oneview/docs <br>\n",
    "https://developer.hpe.com/\n",
    "\n",
    "#### Powershell (POSH) specific\n",
    "https://github.com/HewlettPackard/POSH-HPOneView<br>\n",
    "\n",
    "\n",
    "\n",
    "### Installation of HP OneView Module\n",
    "only required, if not installed yet."
   ]
  },
  {
   "cell_type": "code",
   "execution_count": 1,
   "metadata": {
    "scrolled": true
   },
   "outputs": [
    {
     "name": "stdout",
     "output_type": "stream",
     "text": [
      "Start-Process powershell -ArgumentList \"Install-Module HPOneView.410 -AllowClobber -Verb runAs\"\n",
      "Start-Process powershell -ArgumentList \"Set-ExecutionPolicy RemoteSigned -Scope CurrentUser\"\n",
      "\n"
     ]
    }
   ],
   "source": [
    "Start-Process powershell -ArgumentList \"Install-Module HPOneView.410 -AllowClobber -Verb runAs\"\n",
    "Start-Process powershell -ArgumentList \"Set-ExecutionPolicy RemoteSigned -Scope CurrentUser\""
   ]
  },
  {
   "cell_type": "markdown",
   "metadata": {},
   "source": [
    "\n",
    "### Login\n",
    "\n",
    "<img src=\"Pictures/Login.gif\" height=\"500\" width=\"500\" align=\"left\">"
   ]
  },
  {
   "cell_type": "markdown",
   "metadata": {},
   "source": [
    "#### import the PowerShell module:"
   ]
  },
  {
   "cell_type": "code",
   "execution_count": 2,
   "metadata": {},
   "outputs": [
    {
     "name": "stdout",
     "output_type": "stream",
     "text": []
    }
   ],
   "source": [
    "Import-Module -name hponeview.410 "
   ]
  },
  {
   "cell_type": "markdown",
   "metadata": {},
   "source": [
    "#### login:"
   ]
  },
  {
   "cell_type": "code",
   "execution_count": 3,
   "metadata": {},
   "outputs": [
    {
     "name": "stdout",
     "output_type": "stream",
     "text": [
      "\n",
      "ConnectionID Name       UserName AuthLoginDomain Default\n",
      "------------ ----       -------- --------------- -------\n",
      "1            10.0.20.50 python   local           True   \n",
      "\n",
      "\n"
     ]
    }
   ],
   "source": [
    "Connect-HPOVMgmt -Hostname 10.0.20.50 -AuthLoginDomain local -UserName python -Password python123!"
   ]
  },
  {
   "cell_type": "markdown",
   "metadata": {},
   "source": [
    "#### ADVANCED: which functions are available?"
   ]
  },
  {
   "cell_type": "code",
   "execution_count": 4,
   "metadata": {},
   "outputs": [
    {
     "name": "stdout",
     "output_type": "stream",
     "text": [
      "\n",
      "CommandType     Name                                               Version    Source                                   \n",
      "-----------     ----                                               -------    ------                                   \n",
      "Alias           Add-HPOVSppFile                                    4.10.18... hponeview.410                            \n",
      "Alias           Copy-HPOVProfile                                   4.10.18... hponeview.410                            \n",
      "Alias           Get-HPOVProfile                                    4.10.18... hponeview.410                            \n",
      "Alias           Get-HPOVProfileAssign                              4.10.18... hponeview.410                            \n",
      "Alias           Get-HPOVProfileConnectionList                      4.10.18... hponeview.410                            \n",
      "Alias           Get-HPOVServerHardwareTypes                        4.10.18... hponeview.410                            \n",
      "Alias           Get-HPOVSppFile                                    4.10.18... hponeview.410                            \n",
      "Alias           New-HPOVAddressRange                               4.10.18... hponeview.410                            \n",
      "Alias           New-HPOVEnclosure                                  4.10.18... hponeview.410                            \n",
      "Alias           New-HPOVLdap                                       4.10.18... hponeview.410                            \n",
      "Alias           New-HPOVProfile                                    4.10.18... hponeview.410                            \n",
      "Alias           New-HPOVProfileAttachVolume                        4.10.18... hponeview.410                            \n",
      "Alias           New-HPOVProfileConnection                          4.10.18... hponeview.410                            \n",
      "Alias           New-HPOVSanManager                                 4.10.18... hponeview.410                            \n",
      "Alias           New-HPOVServer                                     4.10.18... hponeview.410                            \n",
      "Alias           New-HPOVStoragePool                                4.10.18... hponeview.410                            \n",
      "Alias           New-HPOVStorageSystem                              4.10.18... hponeview.410                            \n",
      "Alias           Remove-HPOVLdap                                    4.10.18... hponeview.410                            \n",
      "Alias           Remove-HPOVProfile                                 4.10.18... hponeview.410                            \n",
      "Alias           Set-HPOVRole                                       4.10.18... hponeview.410                            \n",
      "Alias           Show-HPOVBaselineRepositorySize                    4.10.18... hponeview.410                            \n",
      "Alias           Wait-HPOVTaskAccepted                              4.10.18... hponeview.410                            \n",
      "Function        Add-HPOVApplianceTrustedCertificate                4.10.18... hponeview.410                            \n",
      "Function        Add-HPOVBaseline                                   4.10.18... hponeview.410                            \n",
      "Function        Add-HPOVEnclosure                                  4.10.18... hponeview.410                            \n",
      "Function        Add-HPOVFabricManager                              4.10.18... hponeview.410                            \n",
      "Function        Add-HPOVHypervisorManager                          4.10.18... hponeview.410                            \n",
      "Function        Add-HPOVLdapServer                                 4.10.18... hponeview.410                            \n",
      "Function        Add-HPOVPowerDevice                                4.10.18... hponeview.410                            \n",
      "Function        Add-HPOVRackManager                                4.10.18... hponeview.410                            \n",
      "Function        Add-HPOVRackToDataCenter                           4.10.18... hponeview.410                            \n",
      "Function        Add-HPOVRemoteFrame                                4.10.18... hponeview.410                            \n",
      "Function        Add-HPOVResourceToLabel                            4.10.18... hponeview.410                            \n",
      "Function        Add-HPOVResourceToRack                             4.10.18... hponeview.410                            \n",
      "Function        Add-HPOVResourceToScope                            4.10.18... hponeview.410                            \n",
      "Function        Add-HPOVSanManager                                 4.10.18... hponeview.410                            \n",
      "Function        Add-HPOVServer                                     4.10.18... hponeview.410                            \n",
      "Function        Add-HPOVSmtpAlertEmailFilter                       4.10.18... hponeview.410                            \n",
      "Function        Add-HPOVStoragePool                                4.10.18... hponeview.410                            \n",
      "Function        Add-HPOVStorageSystem                              4.10.18... hponeview.410                            \n",
      "Function        Add-HPOVStorageVolume                              4.10.18... hponeview.410                            \n",
      "Function        Clear-HPOVAlert                                    4.10.18... hponeview.410                            \n",
      "Function        Connect-HPOVMgmt                                   4.10.18... hponeview.410                            \n",
      "Function        Convert-HPOVServerProfile                          4.10.18... hponeview.410                            \n",
      "Function        Convert-HPOVServerProfileTemplate                  4.10.18... hponeview.410                            \n",
      "Function        ConvertTo-HPOVImageStreamerConfiguration           4.10.18... hponeview.410                            \n",
      "Function        ConvertTo-HPOVServerProfileTemplate                4.10.18... hponeview.410                            \n",
      "Function        ConvertTo-HPOVStorageVolume                        4.10.18... hponeview.410                            \n",
      "Function        Copy-HPOVServerProfile                             4.10.18... hponeview.410                            \n",
      "Function        Disable-HPOVApplianceComplexPasswords              4.10.18... hponeview.410                            \n",
      "Function        Disable-HPOVApplianceServiceConsoleAccess          4.10.18... hponeview.410                            \n",
      "Function        Disable-HPOVApplianceSshAccess                     4.10.18... hponeview.410                            \n",
      "Function        Disable-HPOVApplianceTwoFactorAuthentication       4.10.18... hponeview.410                            \n",
      "Function        Disable-HPOVCertificateValidation                  4.10.18... hponeview.410                            \n",
      "Function        Disable-HPOVDebug                                  4.10.18... hponeview.410                            \n",
      "Function        Disable-HPOVDeviceUid                              4.10.18... hponeview.410                            \n",
      "Function        Disable-HPOVLdapLocalLogin                         4.10.18... hponeview.410                            \n",
      "Function        Disable-HPOVLogicalInterconnectPortMonitoring      4.10.18... hponeview.410                            \n",
      "Function        Disable-HPOVMSDSC                                  4.10.18... hponeview.410                            \n",
      "Function        Disable-HPOVRemoteSupport                          4.10.18... hponeview.410                            \n",
      "Function        Disable-HPOVRemoteSyslog                           4.10.18... hponeview.410                            \n",
      "Function        Disconnect-HPOVMgmt                                4.10.18... hponeview.410                            \n",
      "Function        Enable-HPOVApplianceComplexPasswords               4.10.18... hponeview.410                            \n",
      "Function        Enable-HPOVApplianceServiceConsoleAccess           4.10.18... hponeview.410                            \n",
      "Function        Enable-HPOVApplianceSshAccess                      4.10.18... hponeview.410                            \n",
      "Function        Enable-HPOVCertificateValidation                   4.10.18... hponeview.410                            \n",
      "Function        Enable-HPOVComposerHANode                          4.10.18... hponeview.410                            \n",
      "Function        Enable-HPOVDebug                                   4.10.18... hponeview.410                            \n",
      "Function        Enable-HPOVDeviceUid                               4.10.18... hponeview.410                            \n",
      "Function        Enable-HPOVLdapLocalLogin                          4.10.18... hponeview.410                            \n",
      "Function        Enable-HPOVLogicalInterconnectPortMonitoring       4.10.18... hponeview.410                            \n",
      "Function        Enable-HPOVMSDSC                                   4.10.18... hponeview.410                            \n",
      "Function        Enable-HPOVRemoteSupport                           4.10.18... hponeview.410                            \n",
      "Function        Enable-HPOVRemoteSyslog                            4.10.18... hponeview.410                            \n",
      "Function        Get-HPOVAddressPool                                4.10.18... hponeview.410                            \n",
      "Function        Get-HPOVAddressPoolRange                           4.10.18... hponeview.410                            \n",
      "Function        Get-HPOVAddressPoolSubnet                          4.10.18... hponeview.410                            \n",
      "Function        Get-HPOVAlert                                      4.10.18... hponeview.410                            \n",
      "Function        Get-HPOVApplianceAvailableSecurityMode             4.10.18... hponeview.410                            \n",
      "Function        Get-HPOVApplianceCertificateStatus                 4.10.18... hponeview.410                            \n",
      "Function        Get-HPOVApplianceCurrentSecurityMode               4.10.18... hponeview.410                            \n",
      "Function        Get-HPOVApplianceDateTime                          4.10.18... hponeview.410                            \n",
      "Function        Get-HPOVApplianceGlobalSetting                     4.10.18... hponeview.410                            \n",
      "Function        Get-HPOVApplianceNetworkConfig                     4.10.18... hponeview.410                            \n",
      "Function        Get-HPOVApplianceProxy                             4.10.18... hponeview.410                            \n",
      "Function        Get-HPOVApplianceSecurityProtocol                  4.10.18... hponeview.410                            \n",
      "Function        Get-HPOVApplianceSnmpV3EngineId                    4.10.18... hponeview.410                            \n",
      "Function        Get-HPOVApplianceTrapDestination                   4.10.18... hponeview.410                            \n",
      "Function        Get-HPOVApplianceTrustedCertificate                4.10.18... hponeview.410                            \n",
      "Function        Get-HPOVApplianceTwoFactorAuthentication           4.10.18... hponeview.410                            \n",
      "Function        Get-HPOVAuditLog                                   4.10.18... hponeview.410                            \n",
      "Function        Get-HPOVAuditLogArchive                            4.10.18... hponeview.410                            \n",
      "Function        Get-HPOVAutomaticBackupConfig                      4.10.18... hponeview.410                            \n",
      "Function        Get-HPOVAvailableDriveType                         4.10.18... hponeview.410                            \n",
      "Function        Get-HPOVBackup                                     4.10.18... hponeview.410                            \n",
      "Function        Get-HPOVBaseline                                   4.10.18... hponeview.410                            \n",
      "Function        Get-HPOVBaselineRepository                         4.10.18... hponeview.410                            \n",
      "Function        Get-HPOVCommandTrace                               4.10.18... hponeview.410                            \n",
      "Function        Get-HPOVComposerNode                               4.10.18... hponeview.410                            \n",
      "Function        Get-HPOVDataCenter                                 4.10.18... hponeview.410                            \n",
      "Function        Get-HPOVDriveEnclosure                             4.10.18... hponeview.410                            \n",
      "Function        Get-HPOVEnclosure                                  4.10.18... hponeview.410                            \n",
      "Function        Get-HPOVEnclosureGroup                             4.10.18... hponeview.410                            \n",
      "Function        Get-HPOVEulaStatus                                 4.10.18... hponeview.410                            \n",
      "Function        Get-HPOVFabricManager                              4.10.18... hponeview.410                            \n",
      "Function        Get-HPOVHealthStatus                               4.10.18... hponeview.410                            \n",
      "Function        Get-HPOVHypervisorManager                          4.10.18... hponeview.410                            \n",
      "Function        Get-HPOVIloSso                                     4.10.18... hponeview.410                            \n",
      "Function        Get-HPOVImageStreamerAppliance                     4.10.18... hponeview.410                            \n",
      "Function        Get-HPOVInterconnect                               4.10.18... hponeview.410                            \n",
      "Function        Get-HPOVInterconnectType                           4.10.18... hponeview.410                            \n",
      "Function        Get-HPOVLabel                                      4.10.18... hponeview.410                            \n",
      "Function        Get-HPOVLdap                                       4.10.18... hponeview.410                            \n",
      "Function        Get-HPOVLdapDirectory                              4.10.18... hponeview.410                            \n",
      "Function        Get-HPOVLdapGroup                                  4.10.18... hponeview.410                            \n",
      "Function        Get-HPOVLicense                                    4.10.18... hponeview.410                            \n",
      "Function        Get-HPOVLogicalEnclosure                           4.10.18... hponeview.410                            \n",
      "Function        Get-HPOVLogicalInterconnect                        4.10.18... hponeview.410                            \n",
      "Function        Get-HPOVLogicalInterconnectGroup                   4.10.18... hponeview.410                            \n",
      "Function        Get-HPOVLogicalInterconnectPortMonitoring          4.10.18... hponeview.410                            \n",
      "Function        Get-HPOVLogicalSwitch                              4.10.18... hponeview.410                            \n",
      "Function        Get-HPOVLogicalSwitchGroup                         4.10.18... hponeview.410                            \n",
      "Function        Get-HPOVLoginMessage                               4.10.18... hponeview.410                            \n",
      "Function        Get-HPOVManagedSan                                 4.10.18... hponeview.410                            \n",
      "Function        Get-HPOVNetwork                                    4.10.18... hponeview.410                            \n",
      "Function        Get-HPOVNetworkSet                                 4.10.18... hponeview.410                            \n",
      "Function        Get-HPOVOSDeploymentPlan                           4.10.18... hponeview.410                            \n",
      "Function        Get-HPOVOSDeploymentPlanAttribute                  4.10.18... hponeview.410                            \n",
      "Function        Get-HPOVOSDeploymentServer                         4.10.18... hponeview.410                            \n",
      "Function        Get-HPOVPendingUpdate                              4.10.18... hponeview.410                            \n",
      "Function        Get-HPOVPowerDevice                                4.10.18... hponeview.410                            \n",
      "Function        Get-HPOVPowerPotentialDeviceConnection             4.10.18... hponeview.410                            \n",
      "Function        Get-HPOVRack                                       4.10.18... hponeview.410                            \n",
      "Function        Get-HPOVRackManager                                4.10.18... hponeview.410                            \n",
      "Function        Get-HPOVRackMember                                 4.10.18... hponeview.410                            \n",
      "Function        Get-HPOVRemoteSupport                              4.10.18... hponeview.410                            \n",
      "Function        Get-HPOVRemoteSupportContact                       4.10.18... hponeview.410                            \n",
      "Function        Get-HPOVRemoteSupportDataCollectionSchedule        4.10.18... hponeview.410                            \n",
      "Function        Get-HPOVRemoteSupportDefaultSite                   4.10.18... hponeview.410                            \n",
      "Function        Get-HPOVRemoteSupportEntitlementStatus             4.10.18... hponeview.410                            \n",
      "Function        Get-HPOVRemoteSupportPartner                       4.10.18... hponeview.410                            \n",
      "Function        Get-HPOVRemoteSupportSetting                       4.10.18... hponeview.410                            \n",
      "Function        Get-HPOVRemoteSyslog                               4.10.18... hponeview.410                            \n",
      "Function        Get-HPOVRole                                       4.10.18... hponeview.410                            \n",
      "Function        Get-HPOVSanManager                                 4.10.18... hponeview.410                            \n",
      "Function        Get-HPOVSanZone                                    4.10.18... hponeview.410                            \n",
      "Function        Get-HPOVSasInterconnectType                        4.10.18... hponeview.410                            \n",
      "Function        Get-HPOVSasLogicalInterconnect                     4.10.18... hponeview.410                            \n",
      "Function        Get-HPOVScmbCertificates                           4.10.18... hponeview.410                            \n",
      "Function        Get-HPOVScope                                      4.10.18... hponeview.410                            \n",
      "Function        Get-HPOVServer                                     4.10.18... hponeview.410                            \n",
      "Function        Get-HPOVServerHardwareType                         4.10.18... hponeview.410                            \n",
      "Function        Get-HPOVServerProfile                              4.10.18... hponeview.410                            \n",
      "Function        Get-HPOVServerProfileConnectionList                4.10.18... hponeview.410                            \n",
      "Function        Get-HPOVServerProfileMessage                       4.10.18... hponeview.410                            \n",
      "Function        Get-HPOVServerProfileTemplate                      4.10.18... hponeview.410                            \n",
      "Function        Get-HPOVServiceAlert                               4.10.18... hponeview.410                            \n",
      "Function        Get-HPOVSMTPConfig                                 4.10.18... hponeview.410                            \n",
      "Function        Get-HPOVSnmpReadCommunity                          4.10.18... hponeview.410                            \n",
      "Function        Get-HPOVSnmpV3User                                 4.10.18... hponeview.410                            \n",
      "Function        Get-HPOVStoragePool                                4.10.18... hponeview.410                            \n",
      "Function        Get-HPOVStorageSystem                              4.10.18... hponeview.410                            \n",
      "Function        Get-HPOVStorageVolume                              4.10.18... hponeview.410                            \n",
      "Function        Get-HPOVStorageVolumeSnapShot                      4.10.18... hponeview.410                            \n",
      "Function        Get-HPOVStorageVolumeTemplate                      4.10.18... hponeview.410                            \n",
      "Function        Get-HPOVStorageVolumeTemplatePolicy                4.10.18... hponeview.410                            \n",
      "Function        Get-HPOVSwitch                                     4.10.18... hponeview.410                            \n",
      "Function        Get-HPOVSwitchType                                 4.10.18... hponeview.410                            \n",
      "Function        Get-HPOVTask                                       4.10.18... hponeview.410                            \n",
      "Function        Get-HPOVUnmanagedDevice                            4.10.18... hponeview.410                            \n",
      "Function        Get-HPOVUplinkSet                                  4.10.18... hponeview.410                            \n",
      "Function        Get-HPOVUser                                       4.10.18... hponeview.410                            \n",
      "Function        Get-HPOVVersion                                    4.10.18... hponeview.410                            \n",
      "Function        Get-HPOVXApiVersion                                4.10.18... hponeview.410                            \n",
      "Function        Import-HPOVSslCertificate                          4.10.18... hponeview.410                            \n",
      "Function        Install-HPOVApplianceCertificate                   4.10.18... hponeview.410                            \n",
      "Function        Install-HPOVLogicalInterconnectFirmware            4.10.18... hponeview.410                            \n",
      "Function        Install-HPOVUpdate                                 4.10.18... hponeview.410                            \n",
      "Function        Invoke-HPOVVcmMigration                            4.10.18... hponeview.410                            \n",
      "Function        Invoke-HPOVWebBrowser                              4.10.18... hponeview.410                            \n",
      "Function        Join-HPOVServerProfileToTemplate                   4.10.18... hponeview.410                            \n",
      "Function        New-HPOVAddressPoolRange                           4.10.18... hponeview.410                            \n",
      "Function        New-HPOVAddressPoolSubnet                          4.10.18... hponeview.410                            \n",
      "Function        New-HPOVApplianceCsr                               4.10.18... hponeview.410                            \n",
      "Function        New-HPOVApplianceSelfSignedCertificate             4.10.18... hponeview.410                            \n",
      "Function        New-HPOVApplianceTrapDestination                   4.10.18... hponeview.410                            \n",
      "Function        New-HPOVBackup                                     4.10.18... hponeview.410                            \n",
      "Function        New-HPOVCustomBaseline                             4.10.18... hponeview.410                            \n",
      "Function        New-HPOVDataCenter                                 4.10.18... hponeview.410                            \n",
      "Function        New-HPOVEnclosureGroup                             4.10.18... hponeview.410                            \n",
      "Function        New-HPOVExternalRepository                         4.10.18... hponeview.410                            \n",
      "Function        New-HPOVLdapDirectory                              4.10.18... hponeview.410                            \n",
      "Function        New-HPOVLdapGroup                                  4.10.18... hponeview.410                            \n",
      "Function        New-HPOVLdapServer                                 4.10.18... hponeview.410                            \n",
      "Function        New-HPOVLicense                                    4.10.18... hponeview.410                            \n",
      "Function        New-HPOVLogicalEnclosure                           4.10.18... hponeview.410                            \n",
      "Function        New-HPOVLogicalInterconnectGroup                   4.10.18... hponeview.410                            \n",
      "Function        New-HPOVLogicalSwitch                              4.10.18... hponeview.410                            \n",
      "Function        New-HPOVLogicalSwitchGroup                         4.10.18... hponeview.410                            \n",
      "Function        New-HPOVNetwork                                    4.10.18... hponeview.410                            \n",
      "Function        New-HPOVNetworkSet                                 4.10.18... hponeview.410                            \n",
      "Function        New-HPOVOSDeploymentServer                         4.10.18... hponeview.410                            \n",
      "Function        New-HPOVQosConfig                                  4.10.18... hponeview.410                            \n",
      "Function        New-HPOVQosTrafficClass                            4.10.18... hponeview.410                            \n",
      "Function        New-HPOVRack                                       4.10.18... hponeview.410                            \n",
      "Function        New-HPOVRemoteSupportContact                       4.10.18... hponeview.410                            \n",
      "Function        New-HPOVRemoteSupportPartner                       4.10.18... hponeview.410                            \n",
      "Function        New-HPOVResource                                   4.10.18... hponeview.410                            \n",
      "Function        New-HPOVRestore                                    4.10.18... hponeview.410                            \n",
      "Function        New-HPOVScope                                      4.10.18... hponeview.410                            \n",
      "Function        New-HPOVServerProfile                              4.10.18... hponeview.410                            \n",
      "Function        New-HPOVServerProfileAssign                        4.10.18... hponeview.410                            \n",
      "Function        New-HPOVServerProfileAttachVolume                  4.10.18... hponeview.410                            \n",
      "Function        New-HPOVServerProfileConnection                    4.10.18... hponeview.410                            \n",
      "Function        New-HPOVServerProfileLogicalDisk                   4.10.18... hponeview.410                            \n",
      "Function        New-HPOVServerProfileLogicalDiskController         4.10.18... hponeview.410                            \n",
      "Function        New-HPOVServerProfileTemplate                      4.10.18... hponeview.410                            \n",
      "Function        New-HPOVSnmpConfiguration                          4.10.18... hponeview.410                            \n",
      "Function        New-HPOVSnmpTrapDestination                        4.10.18... hponeview.410                            \n",
      "Function        New-HPOVSnmpV3User                                 4.10.18... hponeview.410                            \n",
      "Function        New-HPOVStorageVolume                              4.10.18... hponeview.410                            \n",
      "Function        New-HPOVStorageVolumeSnapshot                      4.10.18... hponeview.410                            \n",
      "Function        New-HPOVStorageVolumeTemplate                      4.10.18... hponeview.410                            \n",
      "Function        New-HPOVSupportDump                                4.10.18... hponeview.410                            \n",
      "Function        New-HPOVUnmanagedDevice                            4.10.18... hponeview.410                            \n",
      "Function        New-HPOVUplinkSet                                  4.10.18... hponeview.410                            \n",
      "Function        New-HPOVUser                                       4.10.18... hponeview.410                            \n",
      "Function        Ping-HPOVAddress                                   4.10.18... hponeview.410                            \n",
      "Function        Pop-HPOVAppliancePermission                        4.10.18... hponeview.410                            \n",
      "Function        Push-HPOVAppliancePermission                       4.10.18... hponeview.410                            \n",
      "Function        Remove-HPOVAddressPoolRange                        4.10.18... hponeview.410                            \n",
      "Function        Remove-HPOVAddressPoolSubnet                       4.10.18... hponeview.410                            \n",
      "Function        Remove-HPOVAlert                                   4.10.18... hponeview.410                            \n",
      "Function        Remove-HPOVApplianceProxy                          4.10.18... hponeview.410                            \n",
      "Function        Remove-HPOVApplianceTrapDestination                4.10.18... hponeview.410                            \n",
      "Function        Remove-HPOVApplianceTrustedCertificate             4.10.18... hponeview.410                            \n",
      "Function        Remove-HPOVBaseline                                4.10.18... hponeview.410                            \n",
      "Function        Remove-HPOVDataCenter                              4.10.18... hponeview.410                            \n",
      "Function        Remove-HPOVEnclosure                               4.10.18... hponeview.410                            \n",
      "Function        Remove-HPOVEnclosureGroup                          4.10.18... hponeview.410                            \n",
      "Function        Remove-HPOVExternalRepository                      4.10.18... hponeview.410                            \n",
      "Function        Remove-HPOVFabricManager                           4.10.18... hponeview.410                            \n",
      "Function        Remove-HPOVHypervisorManager                       4.10.18... hponeview.410                            \n",
      "Function        Remove-HPOVLdapDirectory                           4.10.18... hponeview.410                            \n",
      "Function        Remove-HPOVLdapGroup                               4.10.18... hponeview.410                            \n",
      "Function        Remove-HPOVLdapServer                              4.10.18... hponeview.410                            \n",
      "Function        Remove-HPOVLicense                                 4.10.18... hponeview.410                            \n",
      "Function        Remove-HPOVLogicalEnclosure                        4.10.18... hponeview.410                            \n",
      "Function        Remove-HPOVLogicalInterconnectGroup                4.10.18... hponeview.410                            \n",
      "Function        Remove-HPOVLogicalSwitch                           4.10.18... hponeview.410                            \n",
      "Function        Remove-HPOVLogicalSwitchGroup                      4.10.18... hponeview.410                            \n",
      "Function        Remove-HPOVNetwork                                 4.10.18... hponeview.410                            \n",
      "Function        Remove-HPOVNetworkSet                              4.10.18... hponeview.410                            \n",
      "Function        Remove-HPOVOSDeploymentServer                      4.10.18... hponeview.410                            \n",
      "Function        Remove-HPOVPendingUpdate                           4.10.18... hponeview.410                            \n",
      "Function        Remove-HPOVPowerDevice                             4.10.18... hponeview.410                            \n",
      "Function        Remove-HPOVRack                                    4.10.18... hponeview.410                            \n",
      "Function        Remove-HPOVRackManager                             4.10.18... hponeview.410                            \n",
      "Function        Remove-HPOVRackMember                              4.10.18... hponeview.410                            \n",
      "Function        Remove-HPOVRemoteSupportContact                    4.10.18... hponeview.410                            \n",
      "Function        Remove-HPOVRemoteSupportPartner                    4.10.18... hponeview.410                            \n",
      "Function        Remove-HPOVResource                                4.10.18... hponeview.410                            \n",
      "Function        Remove-HPOVResourceFromLabel                       4.10.18... hponeview.410                            \n",
      "Function        Remove-HPOVResourceFromScope                       4.10.18... hponeview.410                            \n",
      "Function        Remove-HPOVSanManager                              4.10.18... hponeview.410                            \n",
      "Function        Remove-HPOVScmbCertificate                         4.10.18... hponeview.410                            \n",
      "Function        Remove-HPOVScope                                   4.10.18... hponeview.410                            \n",
      "Function        Remove-HPOVServer                                  4.10.18... hponeview.410                            \n",
      "Function        Remove-HPOVServerProfile                           4.10.18... hponeview.410                            \n",
      "Function        Remove-HPOVServerProfileTemplate                   4.10.18... hponeview.410                            \n",
      "Function        Remove-HPOVSnmpV3User                              4.10.18... hponeview.410                            \n",
      "Function        Remove-HPOVStandbyComposerNode                     4.10.18... hponeview.410                            \n",
      "Function        Remove-HPOVStoragePool                             4.10.18... hponeview.410                            \n",
      "Function        Remove-HPOVStorageSystem                           4.10.18... hponeview.410                            \n",
      "Function        Remove-HPOVStorageVolume                           4.10.18... hponeview.410                            \n",
      "Function        Remove-HPOVStorageVolumeSnapshot                   4.10.18... hponeview.410                            \n",
      "Function        Remove-HPOVStorageVolumeTemplate                   4.10.18... hponeview.410                            \n",
      "Function        Remove-HPOVUnmanagedDevice                         4.10.18... hponeview.410                            \n",
      "Function        Remove-HPOVUser                                    4.10.18... hponeview.410                            \n",
      "Function        Reset-HPOVEnclosureDevice                          4.10.18... hponeview.410                            \n",
      "Function        Restart-HPOVAppliance                              4.10.18... hponeview.410                            \n",
      "Function        Restart-HPOVServer                                 4.10.18... hponeview.410                            \n",
      "Function        Restore-HPOVCustomBaseline                         4.10.18... hponeview.410                            \n",
      "Function        Save-HPOVBackup                                    4.10.18... hponeview.410                            \n",
      "Function        Save-HPOVServerProfile                             4.10.18... hponeview.410                            \n",
      "Function        Save-HPOVServerProfileTemplate                     4.10.18... hponeview.410                            \n",
      "Function        Search-HPOVAssociations                            4.10.18... hponeview.410                            \n",
      "Function        Search-HPOVIndex                                   4.10.18... hponeview.410                            \n",
      "Function        Send-HPOVRequest                                   4.10.18... hponeview.410                            \n",
      "Function        Set-HPOVAddressPoolSubnet                          4.10.18... hponeview.410                            \n",
      "Function        Set-HPOVAlert                                      4.10.18... hponeview.410                            \n",
      "Function        Set-HPOVApplianceCurrentSecurityMode               4.10.18... hponeview.410                            \n",
      "Function        Set-HPOVApplianceDateTime                          4.10.18... hponeview.410                            \n",
      "Function        Set-HPOVApplianceDefaultConnection                 4.10.18... hponeview.410                            \n",
      "Function        Set-HPOVApplianceGlobalSetting                     4.10.18... hponeview.410                            \n",
      "Function        Set-HPOVApplianceNetworkConfig                     4.10.18... hponeview.410                            \n",
      "Function        Set-HPOVApplianceProxy                             4.10.18... hponeview.410                            \n",
      "Function        Set-HPOVApplianceSecurityProtocol                  4.10.18... hponeview.410                            \n",
      "Function        Set-HPOVApplianceTwoFactorAuthentication           4.10.18... hponeview.410                            \n",
      "Function        Set-HPOVAutomaticBackupConfig                      4.10.18... hponeview.410                            \n",
      "Function        Set-HPOVDataCenter                                 4.10.18... hponeview.410                            \n",
      "Function        Set-HPOVDataCenterRemoteSupport                    4.10.18... hponeview.410                            \n",
      "Function        Set-HPOVEnclosure                                  4.10.18... hponeview.410                            \n",
      "Function        Set-HPOVEnclosureActiveFLM                         4.10.18... hponeview.410                            \n",
      "Function        Set-HPOVEnclosureGroup                             4.10.18... hponeview.410                            \n",
      "Function        Set-HPOVEulaStatus                                 4.10.18... hponeview.410                            \n",
      "Function        Set-HPOVExternalRepository                         4.10.18... hponeview.410                            \n",
      "Function        Set-HPOVHypervisorManager                          4.10.18... hponeview.410                            \n",
      "Function        Set-HPOVInitialPassword                            4.10.18... hponeview.410                            \n",
      "Function        Set-HPOVLdapDefaultDirectory                       4.10.18... hponeview.410                            \n",
      "Function        Set-HPOVLdapGroupRole                              4.10.18... hponeview.410                            \n",
      "Function        Set-HPOVLogicalEnclosure                           4.10.18... hponeview.410                            \n",
      "Function        Set-HPOVLoginMessage                               4.10.18... hponeview.410                            \n",
      "Function        Set-HPOVManagedSan                                 4.10.18... hponeview.410                            \n",
      "Function        Set-HPOVNetwork                                    4.10.18... hponeview.410                            \n",
      "Function        Set-HPOVNetworkSet                                 4.10.18... hponeview.410                            \n",
      "Function        Set-HPOVRackMemberLocation                         4.10.18... hponeview.410                            \n",
      "Function        Set-HPOVRemoteSupport                              4.10.18... hponeview.410                            \n",
      "Function        Set-HPOVRemoteSupportDataCollectionSchedule        4.10.18... hponeview.410                            \n",
      "Function        Set-HPOVRemoteSupportDefaultSite                   4.10.18... hponeview.410                            \n",
      "Function        Set-HPOVRemoteSupportSetting                       4.10.18... hponeview.410                            \n",
      "Function        Set-HPOVRemoteSyslog                               4.10.18... hponeview.410                            \n",
      "Function        Set-HPOVResource                                   4.10.18... hponeview.410                            \n",
      "Function        Set-HPOVSanManager                                 4.10.18... hponeview.410                            \n",
      "Function        Set-HPOVServerHardwareType                         4.10.18... hponeview.410                            \n",
      "Function        Set-HPOVServerPower                                4.10.18... hponeview.410                            \n",
      "Function        Set-HPOVServerProfile                              4.10.18... hponeview.410                            \n",
      "Function        Set-HPOVServerProfileTemplate                      4.10.18... hponeview.410                            \n",
      "Function        Set-HPOVSmtpConfig                                 4.10.18... hponeview.410                            \n",
      "Function        Set-HPOVSnmpReadCommunity                          4.10.18... hponeview.410                            \n",
      "Function        Set-HPOVStoragePool                                4.10.18... hponeview.410                            \n",
      "Function        Set-HPOVStorageVolume                              4.10.18... hponeview.410                            \n",
      "Function        Set-HPOVStorageVolumeTemplate                      4.10.18... hponeview.410                            \n",
      "Function        Set-HPOVStorageVolumeTemplatePolicy                4.10.18... hponeview.410                            \n",
      "Function        Set-HPOVUser                                       4.10.18... hponeview.410                            \n",
      "Function        Set-HPOVUserPassword                               4.10.18... hponeview.410                            \n",
      "Function        Set-HPOVUserRole                                   4.10.18... hponeview.410                            \n",
      "Function        Show-HPOVActiveUser                                4.10.18... hponeview.410                            \n",
      "Function        Show-HPOVApplianceSecurityModeCompatibilityReport  4.10.18... hponeview.410                            \n",
      "Function        Show-HPOVFirmwareReport                            4.10.18... hponeview.410                            \n",
      "Function        Show-HPOVLdapGroups                                4.10.18... hponeview.410                            \n",
      "Function        Show-HPOVLogicalInterconnectMacTable               4.10.18... hponeview.410                            \n",
      "Function        Show-HPOVPortStatistics                            4.10.18... hponeview.410                            \n",
      "Function        Show-HPOVSanEndpoint                               4.10.18... hponeview.410                            \n",
      "Function        Show-HPOVUserSession                               4.10.18... hponeview.410                            \n",
      "Function        Start-HPOVLibraryTrace                             4.10.18... hponeview.410                            \n",
      "Function        Start-HPOVRemoteSupportCollection                  4.10.18... hponeview.410                            \n",
      "Function        Start-HPOVServer                                   4.10.18... hponeview.410                            \n",
      "Function        Stop-HPOVAppliance                                 4.10.18... hponeview.410                            \n",
      "Function        Stop-HPOVLibraryTrace                              4.10.18... hponeview.410                            \n",
      "Function        Stop-HPOVServer                                    4.10.18... hponeview.410                            \n",
      "Function        Test-HPOVEmailAlert                                4.10.18... hponeview.410                            \n",
      "Function        Update-HPOVApplianceTrustedAuthorityCrl            4.10.18... hponeview.410                            \n",
      "Function        Update-HPOVEnclosure                               4.10.18... hponeview.410                            \n",
      "Function        Update-HPOVExternalRepository                      4.10.18... hponeview.410                            \n",
      "Function        Update-HPOVLogicalEnclosure                        4.10.18... hponeview.410                            \n",
      "Function        Update-HPOVLogicalEnclosureFirmware                4.10.18... hponeview.410                            \n",
      "Function        Update-HPOVLogicalInterconnect                     4.10.18... hponeview.410                            \n",
      "Function        Update-HPOVLogicalSwitch                           4.10.18... hponeview.410                            \n",
      "Function        Update-HPOVRackManager                             4.10.18... hponeview.410                            \n",
      "Function        Update-HPOVRemoteSupportEntitlement                4.10.18... hponeview.410                            \n",
      "Function        Update-HPOVSanManager                              4.10.18... hponeview.410                            \n",
      "Function        Update-HPOVServer                                  4.10.18... hponeview.410                            \n",
      "Function        Update-HPOVServerHardwareLicenseIntent             4.10.18... hponeview.410                            \n",
      "Function        Update-HPOVServerProfile                           4.10.18... hponeview.410                            \n",
      "Function        Update-HPOVStorageSystem                           4.10.18... hponeview.410                            \n",
      "Function        Wait-HPOVApplianceStart                            4.10.18... hponeview.410                            \n",
      "Function        Wait-HPOVTaskComplete                              4.10.18... hponeview.410                            \n",
      "Function        Wait-HPOVTaskStart                                 4.10.18... hponeview.410                            \n",
      "\n",
      "\n"
     ]
    }
   ],
   "source": [
    "Get-Command -Module HPOneView.410 "
   ]
  },
  {
   "cell_type": "markdown",
   "metadata": {},
   "source": [
    "### show existing networks\n",
    "\n",
    "<img src=\"Pictures/show_network.gif\" height=\"500\" width=\"500\" align=\"left\">\n",
    "<br>"
   ]
  },
  {
   "cell_type": "code",
   "execution_count": 5,
   "metadata": {},
   "outputs": [
    {
     "name": "stdout",
     "output_type": "stream",
     "text": [
      "\n",
      "\n",
      "    Type: Ethernet\n",
      "\n",
      "\n",
      "Name                               Status Purpose    Type   VlanID IPv4Subnet Smartlink PrivateNetwork PreferredBandwid\n",
      "                                                                                                       th              \n",
      "----                               ------ -------    ----   ------ ---------- --------- -------------- ----------------\n",
      "CTC Demo 030                       OK     General    Tagged 30     None       True      False          2500            \n",
      "CTC Demo 031                       OK     General    Tagged 31     None       True      False          2500            \n",
      "CTC Demo 032                       OK     General    Tagged 32     None       True      False          2500            \n",
      "CTC Demo 033                       OK     General    Tagged 33     None       True      False          2500            \n",
      "CTC Demo 034                       OK     General    Tagged 34     None       True      False          2500            \n",
      "CTC Demo 035                       OK     General    Tagged 35     None       True      False          2500            \n",
      "CTC Demo 036                       OK     General    Tagged 36     None       True      False          2500            \n",
      "CTC Demo 037                       OK     General    Tagged 37     None       True      False          2500            \n",
      "CTC Demo 038                       OK     General    Tagged 38     None       True      False          2500            \n",
      "CTC Demo 039                       OK     General    Tagged 39     None       True      False          2500            \n",
      "CTC Image Streamer 109             OK     ISCSI      Tagged 109    10.0.19.0  True      False          2500            \n",
      "CTC Management 020                 OK     Management Tagged 20     10.0.20.0  True      False          2500            \n",
      "CTC SAP HANA 023                   OK     General    Tagged 23     None       True      False          2500            \n",
      "DevOps_Back                        OK     General    Tagged 48     None       True      False          2500            \n",
      "DevOps_Front                       OK     General    Tagged 47     None       True      False          2500            \n",
      "Hypervisor Tunnel                  OK     General    Tunnel 0      None       True      False          2500            \n",
      "Production 100                     OK     General    Tagged 100    None       True      False          2500            \n",
      "Production 101                     OK     General    Tagged 101    None       True      False          2500            \n",
      "Production 102                     OK     General    Tagged 102    None       True      False          2500            \n",
      "Production 104                     OK     General    Tagged 104    None       True      False          2500            \n",
      "Python CTC IMAGE Streamer          OK     ISCSI      Tagged 109    10.0.19.0  True      False          2500            \n",
      "Roundtable - Test Ethernet Network OK     General    Tagged 200    None       False     False          2500            \n",
      "Stratoscale_Access                 OK     General    Tagged 51     None       True      False          2500            \n",
      "Stratoscale_Control                OK     General    Tagged 53     None       True      False          2500            \n",
      "Stratoscale_Data                   OK     General    Tagged 52     None       True      False          2500            \n",
      "Stratoscale_Edge                   OK     General    Tagged 55     None       True      False          2500            \n",
      "Stratoscale_Guest                  OK     General    Tagged 54     None       True      False          2500            \n",
      "Stratoscale_Guest2                 OK     General    Tagged 56     None       True      False          2500            \n",
      "Stratoscale_Guest3                 OK     General    Tagged 57     None       True      False          2500            \n",
      "Stratoscale_Guest4                 OK     General    Tagged 58     None       True      False          2500            \n",
      "Stratoscale_Guest5                 OK     General    Tagged 59     None       True      False          2500            \n",
      "\n",
      "\n",
      "\n",
      "\n",
      "    Type: Fibre Channel\n",
      "\n",
      "\n",
      "Name          Status Type         PreferredBandwidth MaxBandwidth AutoLoginRedistribution LinkStabilityInterval Managed\n",
      "                                                                                                                SAN    \n",
      "----          ------ ----         ------------------ ------------ ----------------------- --------------------- -------\n",
      "FCoE Fabric A OK     FabricAttach 8000               20000        True                    30                    Fabr...\n",
      "FCoE Fabric B OK     FabricAttach 8000               20000        True                    30                    Fabr...\n",
      "\n",
      "\n"
     ]
    }
   ],
   "source": [
    "Get-HPOVNetwork"
   ]
  },
  {
   "cell_type": "markdown",
   "metadata": {},
   "source": [
    "### create network\n",
    "\n",
    "<img src=\"Pictures/create_network.gif\" height=\"500\" width=\"500\" align=\"left\">"
   ]
  },
  {
   "cell_type": "code",
   "execution_count": null,
   "metadata": {},
   "outputs": [],
   "source": [
    "New-HPOVNetwork -Name \"Roundtable - Test Ethernet Network\" -VlanId 200 -Type Ethernet -VLANType Tagged -Purpose General -SmartLink $False -PrivateNetwork $False  "
   ]
  },
  {
   "cell_type": "markdown",
   "metadata": {},
   "source": [
    "### create bulk network\n",
    "How to setup multiple networks at once."
   ]
  },
  {
   "cell_type": "code",
   "execution_count": null,
   "metadata": {},
   "outputs": [],
   "source": [
    "$net = @(1,2,3,4,5,7,100,101,102,103,104,105,106,107,108,109,200)  \n",
    "foreach ($i in $net) { New-HPOVNetwork -Name \"Bulk_$i\" -VlanId $i -Type Ethernet -VLANType Tagged } "
   ]
  },
  {
   "cell_type": "markdown",
   "metadata": {},
   "source": [
    "### delete bulk network\n",
    "as it´s not needed for the demo"
   ]
  },
  {
   "cell_type": "code",
   "execution_count": null,
   "metadata": {},
   "outputs": [],
   "source": [
    "Get-HPOVNetwork -name \"bulk*\" | Remove-HPOVNetwork -Confirm:$false"
   ]
  },
  {
   "cell_type": "markdown",
   "metadata": {},
   "source": [
    "### show configured/existing storage (systems and pools)\n",
    "\n",
    "<img src=\"Pictures/show_storage.gif\" height=\"500\" width=\"500\" align=\"left\">"
   ]
  },
  {
   "cell_type": "code",
   "execution_count": 6,
   "metadata": {},
   "outputs": [
    {
     "name": "stdout",
     "output_type": "stream",
     "text": [
      "Get-HPOVStorageSystem\n",
      "\n",
      "Name     Family    State   Status SerialNumber Model          ManagedDomain WWN                     Firmware \n",
      "----     ------    -----   ------ ------------ -----          ------------- ---                     -------- \n",
      "3par20k  StoreServ Managed OK     CZ3706DWBB   HPE_3PAR 20800 NO DOMAIN     2F:F7:00:02:AC:01:D0:B2 3.3.1.410\n",
      "3PAR8200 StoreServ Managed OK     CZ38277F39   HPE_3PAR 8200  NO DOMAIN     2F:F7:00:02:AC:02:18:33 3.3.1.460\n",
      "\n",
      "\n",
      "\n",
      "\n"
     ]
    }
   ],
   "source": [
    "Get-HPOVStorageSystem\n"
   ]
  },
  {
   "cell_type": "code",
   "execution_count": 7,
   "metadata": {},
   "outputs": [
    {
     "name": "stdout",
     "output_type": "stream",
     "text": [
      "\n",
      "Name   Uri                                                     \n",
      "----   ---                                                     \n",
      "FC_r1  /rest/storage-pools/9AFF5ED2-3356-4084-B75F-A92D00FCF0F8\n",
      "FC_r1  /rest/storage-pools/17E1C201-A26D-4CF4-B60B-A8C800809AA0\n",
      "FC_r5  /rest/storage-pools/2F6AF802-4A32-4E24-9D02-A92D00FCF0FB\n",
      "FC_r5  /rest/storage-pools/D9F83211-52EE-4227-9344-A8C800809AA2\n",
      "FC_r6  /rest/storage-pools/9C5E1505-E882-4359-86ED-A92D00FCF0FC\n",
      "FC_r6  /rest/storage-pools/D28EC912-58F5-44FA-8E2E-A8C800809AA3\n",
      "fs_cpg /rest/storage-pools/FADAC678-EED1-49F0-8F68-A95E009A3ED7\n",
      "SSD_r1 /rest/storage-pools/E43592FC-5A91-4E33-B1F9-A8C800809AA5\n",
      "SSD_r5 /rest/storage-pools/9F9E08E5-AA78-4978-AA31-A8C800809AA6\n",
      "SSD_r6 /rest/storage-pools/BB8951A5-233B-4E73-A0C1-A8C800809AA8\n",
      "\n",
      "\n"
     ]
    }
   ],
   "source": [
    "Get-HPOVStoragePool  | select Name, URI "
   ]
  },
  {
   "cell_type": "markdown",
   "metadata": {},
   "source": [
    "### show volume templates"
   ]
  },
  {
   "cell_type": "code",
   "execution_count": 8,
   "metadata": {},
   "outputs": [
    {
     "name": "stdout",
     "output_type": "stream",
     "text": [
      "\n",
      "Name                       Capacity     ProvisionedType Sharing StorageSystem StoragePool SnapshotPool\n",
      "----                       --------     --------------- ------- ------------- ----------- ------------\n",
      "Roundtable Volume Template 10.240,00 GB Thin            Private 3par20k       FC_r5       FC_r5       \n",
      "\n",
      "\n"
     ]
    }
   ],
   "source": [
    "Get-HPOVStorageVolumeTemplate"
   ]
  },
  {
   "cell_type": "markdown",
   "metadata": {},
   "source": [
    "### create volume template\n",
    "\n",
    "<img src=\"Pictures/create_volume_template.gif\" height=\"500\" width=\"500\" align=\"left\">"
   ]
  },
  {
   "cell_type": "code",
   "execution_count": null,
   "metadata": {},
   "outputs": [],
   "source": [
    "$StorPool=Get-HPOVStoragePool -Name \"FC_r5\" -StorageSystem 3par20k \n",
    "New-HPOVStorageVolumeTemplate -Name \"Roundtable Volume Template\" -StoragePool $StorPool -Capacity 10240 "
   ]
  },
  {
   "cell_type": "markdown",
   "metadata": {},
   "source": [
    "### show Enclosure / Server Hardware / Bay\n",
    "<img src=\"Pictures/show_server_hw.gif\" height=\"500\" width=\"500\" align=\"left\">"
   ]
  },
  {
   "cell_type": "code",
   "execution_count": 9,
   "metadata": {},
   "outputs": [
    {
     "name": "stdout",
     "output_type": "stream",
     "text": [
      "\n",
      "Name                 LogicalInterconnectGroup              UsedBy                \n",
      "----                 ------------------------              ------                \n",
      "SY 3 Frame SAS FC VC                                                             \n",
      "SY 1 Frame VC                                                                    \n",
      "SY 3 Frame SAS VC    Virtual Connect SE 40GB F8,SAS Switch CTC Synergy Production\n",
      "\n",
      "\n"
     ]
    }
   ],
   "source": [
    "Get-HPOVEnclosureGroup "
   ]
  },
  {
   "cell_type": "code",
   "execution_count": 10,
   "metadata": {},
   "outputs": [
    {
     "name": "stdout",
     "output_type": "stream",
     "text": [
      "\n",
      "Name                                    Model             Form Factor Adapters                                         \n",
      "----                                    -----             ----------- --------                                         \n",
      "SY 480 G10 M1:SA416 M3:3820CNA          Synergy 480 Gen10 HalfHeight  {Mezz 1 - HPE Smart Array P416ie-m SR G10, Mezz  \n",
      "                                                                      3 - Synergy 3820C 10/20Gb CNA}                   \n",
      "SY 480 G10 M3:3820CNA                   Synergy 480 Gen10 HalfHeight  Mezz 3 - Synergy 3820C 10/20Gb CNA               \n",
      "SY 480 G9 M1:SA542 M3:3820CNA           Synergy 480 Gen9  HalfHeight  {Mezz 3 - Synergy 3820C 10/20Gb CNA, Mezz 1 -    \n",
      "                                                                      Smart Array P542D Controller}                    \n",
      "SY 480 G9 M1:SA542 M3:3820CNA1          Synergy 480 Gen9  HalfHeight  {Mezz 1 - Smart Array P542D Controller, Mezz 3 - \n",
      "                                                                      HP Synergy 3820C 10/20Gb CNA}                    \n",
      "SY 660 G10 M3:3820CNA                   Synergy 660 Gen10 FullHeight  Mezz 3 - Synergy 3820C 10/20Gb CNA               \n",
      "SY 660 G9 M1:SA542 M2:3830FC M3:3820CNA Synergy 660 Gen9  FullHeight  {Mezz 3 - HP Synergy 3820C 10/20Gb CNA, Mezz 2 - \n",
      "                                                                      Synergy 3830C 16G FC HBA, Mezz 1 - Smart Array   \n",
      "                                                                      P542D Controller}                                \n",
      "\n",
      "\n"
     ]
    }
   ],
   "source": [
    "Get-HPOVServerHardwareType"
   ]
  },
  {
   "cell_type": "code",
   "execution_count": 11,
   "metadata": {},
   "outputs": [
    {
     "name": "stdout",
     "output_type": "stream",
     "text": [
      "\n",
      "name                     uri                                                       \n",
      "----                     ---                                                       \n",
      "CTC Synergy HE01, bay 1  /rest/server-hardware/39313738-3134-5A43-4A37-343030373531\n",
      "CTC Synergy HE01, bay 2  /rest/server-hardware/39313738-3134-5A43-4A37-343030373535\n",
      "CTC Synergy HE01, bay 3  /rest/server-hardware/39313738-3134-5A43-4A37-343030373536\n",
      "CTC Synergy HE01, bay 7  /rest/server-hardware/39313738-3134-5A43-4A37-343030373534\n",
      "CTC Synergy HE01, bay 8  /rest/server-hardware/39313738-3134-5A43-4A37-343030373532\n",
      "CTC Synergy HE01, bay 9  /rest/server-hardware/39313738-3134-5A43-4A37-343030373533\n",
      "CTC Synergy HE11, bay 10 /rest/server-hardware/33323337-3235-5A43-3337-303948545656\n",
      "CTC Synergy HE11, bay 2  /rest/server-hardware/33323337-3235-5A43-3337-30394854524D\n",
      "CTC Synergy HE11, bay 3  /rest/server-hardware/33323337-3235-5A43-3337-303948545332\n",
      "CTC Synergy HE11, bay 4  /rest/server-hardware/33323337-3235-5A43-3337-303948545345\n",
      "CTC Synergy HE11, bay 5  /rest/server-hardware/33323337-3235-5A43-3337-303948545438\n",
      "CTC Synergy HE11, bay 6  /rest/server-hardware/33323337-3235-5A43-3337-303948545356\n",
      "CTC Synergy HE11, bay 7  /rest/server-hardware/33323337-3235-5A43-3337-30394854544D\n",
      "CTC Synergy HE11, bay 8  /rest/server-hardware/33323337-3235-5A43-3337-303948545632\n",
      "CTC Synergy HE11, bay 9  /rest/server-hardware/33323337-3235-5A43-3337-303948545645\n",
      "CTC Synergy HE21, bay 1  /rest/server-hardware/36343537-3338-4E43-3736-303230383144\n",
      "CTC Synergy HE21, bay 10 /rest/server-hardware/33323337-3235-5A43-3337-303948545238\n",
      "CTC Synergy HE21, bay 2  /rest/server-hardware/36343537-3338-4E43-3736-303230355931\n",
      "CTC Synergy HE21, bay 3  /rest/server-hardware/39313738-3234-5A43-4A37-343030373559\n",
      "CTC Synergy HE21, bay 4  /rest/server-hardware/39313738-3234-5A43-4A37-343030373558\n",
      "CTC Synergy HE21, bay 5  /rest/server-hardware/39313738-3133-5A43-4A37-343030373931\n",
      "CTC Synergy HE21, bay 6  /rest/server-hardware/30373737-3237-4E43-3735-353030335447\n",
      "\n",
      "\n"
     ]
    }
   ],
   "source": [
    "Get-HPOVServer | select Name, URI"
   ]
  },
  {
   "cell_type": "markdown",
   "metadata": {},
   "source": [
    "#### show Serverprofile"
   ]
  },
  {
   "cell_type": "code",
   "execution_count": 12,
   "metadata": {},
   "outputs": [
    {
     "name": "stdout",
     "output_type": "stream",
     "text": [
      "\n",
      "name                                   uri                                                                \n",
      "----                                   ---                                                                \n",
      "DEMO-CTC ESXi Server Template          /rest/server-profile-templates/ac2995c1-8b21-482b-80e8-7157f1984b75\n",
      "DEMO-CTC Stratoscale Template          /rest/server-profile-templates/c8e28ad3-d764-441b-80ee-0280f72de850\n",
      "Demo-CTC Windows2016-DC-byI3s          /rest/server-profile-templates/7a5d77bc-a372-4a44-8a52-b538ba703b97\n",
      "Demo-CTC Windows2016-DC-byI3s_Gen10    /rest/server-profile-templates/894f818a-9604-48cb-ab9f-ea6c240a9381\n",
      "Roundtable (DirkD)                     /rest/server-profile-templates/cfe892e5-b775-46df-a36e-c65cf7e10100\n",
      "Roundtable - API Demo Template (DirkD) /rest/server-profile-templates/cb62f9a2-5da4-49cc-896c-4d16fac04c1c\n",
      "Roundtable - Python (DirkD)            /rest/server-profile-templates/1e2c29f5-e146-42d4-9f78-a057b41d3953\n",
      "SRT-LC-WIN BfS                         /rest/server-profile-templates/b18b3cf9-8f47-4a6a-be35-18bba3078acd\n",
      "SRT-Storage-BfS-ESX                    /rest/server-profile-templates/823883ee-0f0e-4554-8e00-a909001b28af\n",
      "SRT-Storage-BfS-W2k16                  /rest/server-profile-templates/1df43d4a-76c3-4821-bff3-729446dc7231\n",
      "SRT-StorageDemo-ESX                    /rest/server-profile-templates/534d2abd-989c-456e-a84b-8c112ce3fcac\n",
      "\n",
      "\n"
     ]
    }
   ],
   "source": [
    "Get-HPOVServerProfileTemplate|select Name, URI "
   ]
  },
  {
   "cell_type": "code",
   "execution_count": 13,
   "metadata": {},
   "outputs": [
    {
     "name": "stdout",
     "output_type": "stream",
     "text": [
      "\n",
      "name                                                   uri                                                       \n",
      "----                                                   ---                                                       \n",
      "Andreas                                                /rest/server-profiles/0f9519ba-aba9-44f5-a644-41e687b3c33a\n",
      "Ansible-Roundtable (DirkD)                             /rest/server-profiles/d1fc8f6f-c027-4302-a185-6e0900bbdbc3\n",
      "CTC ESXi Reference Server GoldenImage                  /rest/server-profiles/63f59e45-3e32-4672-a53a-efb2b1d82fcb\n",
      "CTC Windows2016 Reference Server GoldenImage f■r Gen10 /rest/server-profiles/752d0df6-87d9-4e86-ac39-b7b1a6077348\n",
      "CTC Windows2016 Reference Server GoldenImage f■r Gen9  /rest/server-profiles/ccc924d3-f521-4f9f-a092-4428fe081a49\n",
      "DEM04CTCL0 CTC SAP HANA Demo                           /rest/server-profiles/5b989e3c-c286-4b42-a9d5-f905f45d1a57\n",
      "DEM05CTCCON01                                          /rest/server-profiles/18469d4b-6bfe-43ab-9ac0-63281890457d\n",
      "DEMO Windwos 005                                       /rest/server-profiles/00065c78-def5-465f-9e4b-4ba8f6831b44\n",
      "DEMO-CTC ESX SUO04CTCD001                              /rest/server-profiles/62ae196c-da60-4cf7-9684-fcbd97daabd6\n",
      "Roundtable - API Demo Server (DirkD)                   /rest/server-profiles/428f0df8-779a-424e-ae47-8f388df3647f\n",
      "SRT-LC-Win02                                           /rest/server-profiles/1179f382-b35b-4640-8691-bbe2c6637566\n",
      "SRT-SmartCache-Demo                                    /rest/server-profiles/385f7874-906e-4cef-888c-919166ff15c2\n",
      "SRT-SUO04SY2101                                        /rest/server-profiles/e1389199-fe13-4964-86cf-3a10976fb09e\n",
      "SRT-SUO04SY2102                                        /rest/server-profiles/47a7de84-20f7-488d-9d4f-9849c888ee3c\n",
      "SRT-SUO04SY2110                                        /rest/server-profiles/8ecbfb17-941a-4e36-9a2a-b6117d811554\n",
      "SUO04CTCSTRA1                                          /rest/server-profiles/77e7e7e3-02b2-450a-8732-7c2bafa7ead9\n",
      "SUO04CTCSTRA2                                          /rest/server-profiles/d5a216e6-9abb-482f-aea0-d91dae61ce93\n",
      "SUO04CTCSTRA3                                          /rest/server-profiles/a76acf2a-6963-4915-a1ec-c746fb8e2c6f\n",
      "SUO04CTCSTRA4                                          /rest/server-profiles/bf27aeb7-5786-4be5-a43a-36fb70b046c8\n",
      "SUO04CTCSTRA5                                          /rest/server-profiles/b17cde23-f9a1-495a-8f52-d9a2162ceda6\n",
      "SUO04CTCSTRA6                                          /rest/server-profiles/fdff8b29-f823-43ef-be43-56cd2450f8cb\n",
      "\n",
      "\n"
     ]
    }
   ],
   "source": [
    "Get-HPOVServerProfile|select Name, URI"
   ]
  },
  {
   "cell_type": "markdown",
   "metadata": {},
   "source": [
    "### create server profile (takes 2-3 minutes)\n",
    "<br>\n",
    "<img src=\"Pictures/boot_synergy.gif\" height=\"500\" width=\"500\" align=\"left\">"
   ]
  },
  {
   "cell_type": "code",
   "execution_count": 14,
   "metadata": {},
   "outputs": [
    {
     "name": "stdout",
     "output_type": "stream",
     "text": [
      "### Get the first available server based on the template configuration\n",
      "##$Server = Get-HPOVServer -InputObject $ServerProfileTemplate -NoProfile | Select -First 1\n",
      "\n",
      "$Server=Get-HPOVServer -Name \"CTC Synergy HE01, bay 8\"\n"
     ]
    }
   ],
   "source": [
    "### Get the first available server based on the template configuration\n",
    "##$Server = Get-HPOVServer -InputObject $ServerProfileTemplate -NoProfile | Select -First 1\n",
    "\n",
    "$Server=Get-HPOVServer -Name \"CTC Synergy HE01, bay 8\"\n",
    "\n",
    "#Power off Server if on\n",
    "Stop-HPOVServer -Server $Server -Force -Confirm:$false | Wait-HPOVTaskComplete\n",
    "\n",
    "$Template=Get-HPOVServerProfileTemplate -Name \"Roundtable - Python (DirkD)\"\n",
    "$OSDeploymentPlanName=\"RHEL 7.3 - customizable\"\n",
    "\n",
    "# Get the OS Deployment Plan\n",
    "$OSDeploymentPlan = Get-HPOVOSDeploymentPlan -Name $OSDeploymentPlanName -ErrorAction Stop\n",
    "\n",
    "# Get the associated deployment plan attributes\n",
    "##$OSDeploymentAttributes = Get-HPOVOSDeploymentPlanAttribute -InputObject $OSDeploymentPlan -ErrorAction Stop\n",
    "$OSDeploymentAttributes = Get-HPOVOSDeploymentPlanAttribute -InputObject $Template\n",
    "\n",
    "($OSDeploymentAttributes | Where-Object name -eq \"NewUser\").value = \"dirk\"\n",
    "($OSDeploymentAttributes | Where-Object name -eq \"NewUserPassword\").value = \"HalloRoundTable!\"\n",
    "\n",
    "# Set root password, in clear text here, as OneView does not support secure string data types\n",
    "#($OSDeploymentAttributes | Where-Object name -eq \"NewRootPassword\").value = [Runtime.InteropServices.Marshal]::PtrToStringAuto([Runtime.InteropServices.Marshal]::SecureStringToBSTR($Password))\n",
    "($OSDeploymentAttributes | Where-Object name -eq \"NewRootPassword\").value = \"Passw0rd\"\n",
    "\n",
    "# Set Hostname\n",
    "#($OSDeploymentAttributes | Where-Object name -eq \"Hostname\").value = $ServerProfileName\n",
    "($OSDeploymentAttributes | Where-Object name -eq \"Hostname\").value = \"anyhostname\"\n",
    "\n",
    "\n",
    "$params = @{\n",
    "        AssignmentType        = \"Server\";\n",
    "        Description           = \"HPE Synergy 480  Server \";\n",
    "        Name                  = \"Roundtable - API Demo Server (DirkD)2\";\n",
    "        Server                = $Server;\n",
    "        ServerProfileTemplate = $Template;\n",
    "        OSDeploymentAttributes = $OSDeploymentAttributes;\n",
    "        OSDeploymentPlan = $OSDeploymentPlan\n",
    "}\n",
    "\n",
    "New-HPOVServerProfile @params | Wait-HPOVTaskComplete\n",
    "\n",
    "#Power on Server\n",
    "Start-HPOVServer -Server $Server -Confirm:$false  \n"
   ]
  }
 ],
 "metadata": {
  "kernelspec": {
   "display_name": "PowerShell",
   "language": "powershell",
   "name": "powershell"
  },
  "language_info": {
   "codemirror_mode": "shell",
   "file_extension": ".ps1",
   "mimetype": "text/x-sh",
   "name": "powershell"
  }
 },
 "nbformat": 4,
 "nbformat_minor": 2
}
