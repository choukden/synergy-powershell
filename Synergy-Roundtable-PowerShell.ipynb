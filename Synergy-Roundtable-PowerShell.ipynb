{
 "cells": [
  {
   "cell_type": "markdown",
   "metadata": {},
   "source": [
    "# Welcome to the Synergy Roundtable\n",
    "created by Stephan Koch & Dirk Derichsweiler - 01/11/2018<br>\n",
    "do not hesitate to contact us: stephan.koch@hpe.com or dirk.derichsweiler@hpe.com\n",
    "\n",
    "\n",
    "\n",
    "jupyter Notebook can be found: https://github.com/dderichswei/synergy\n",
    "\n",
    "\n",
    "#### requirements\n",
    "- Anaconda (Python) recommended (for the Jupyter installation and pip)\n",
    "- Jupyter-Powershell (https://github.com/vors/jupyter-powershell)\n",
    "\n",
    "\n",
    "#### additional information\n",
    "\n",
    "On your HPE OneView appliance, or online<br>\n",
    "https://10.0.20.50/help/cic-rest/en/content/index.html#home.html<br>\n",
    "https://10.0.20.50/api-docs/current/ <br>\n",
    "http://www.hpe.com/info/oneview/docs <br>\n",
    "https://developer.hpe.com/\n",
    "\n",
    "#### Powershell (POSH) specific\n",
    "https://github.com/HewlettPackard/POSH-HPOneView<br>\n",
    "\n",
    "\n",
    "\n",
    "### Installation of HP OneView Module\n",
    "only required, if not installed yet."
   ]
  },
  {
   "cell_type": "code",
   "execution_count": null,
   "metadata": {
    "scrolled": true
   },
   "outputs": [],
   "source": [
    "Start-Process powershell -ArgumentList \"Install-Module HPOneView.410 -AllowClobber -Verb runAs\"\n",
    "Start-Process powershell -ArgumentList \"Set-ExecutionPolicy RemoteSigned -Scope CurrentUser\""
   ]
  },
  {
   "cell_type": "markdown",
   "metadata": {},
   "source": [
    "\n",
    "### Login\n",
    "\n",
    "<img src=\"Pictures/Login.gif\" height=\"500\" width=\"500\" align=\"left\">"
   ]
  },
  {
   "cell_type": "markdown",
   "metadata": {},
   "source": [
    "#### import the PowerShell module:"
   ]
  },
  {
   "cell_type": "code",
   "execution_count": 1,
   "metadata": {},
   "outputs": [
    {
     "name": "stdout",
     "output_type": "stream",
     "text": []
    }
   ],
   "source": [
    "Import-Module -name hponeview.410 "
   ]
  },
  {
   "cell_type": "markdown",
   "metadata": {},
   "source": [
    "#### login:"
   ]
  },
  {
   "cell_type": "code",
   "execution_count": 2,
   "metadata": {},
   "outputs": [
    {
     "name": "stdout",
     "output_type": "stream",
     "text": [
      "\n",
      "ConnectionID Name       UserName AuthLoginDomain Default\n",
      "------------ ----       -------- --------------- -------\n",
      "1            10.0.20.50 python   local           True   \n",
      "\n",
      "\n"
     ]
    }
   ],
   "source": [
    "Connect-HPOVMgmt -Hostname 10.0.20.50 -AuthLoginDomain local -UserName python -Password python123!"
   ]
  },
  {
   "cell_type": "markdown",
   "metadata": {},
   "source": [
    "#### ADVANCED: which functions are available?"
   ]
  },
  {
   "cell_type": "code",
   "execution_count": null,
   "metadata": {},
   "outputs": [],
   "source": [
    "Get-Command -Module HPOneView.410 "
   ]
  },
  {
   "cell_type": "markdown",
   "metadata": {},
   "source": [
    "### show existing networks\n",
    "\n",
    "<img src=\"Pictures/show_network.gif\" height=\"500\" width=\"500\" align=\"left\">\n",
    "<br>"
   ]
  },
  {
   "cell_type": "code",
   "execution_count": null,
   "metadata": {},
   "outputs": [],
   "source": [
    "Get-HPOVNetwork"
   ]
  },
  {
   "cell_type": "markdown",
   "metadata": {},
   "source": [
    "### create network\n",
    "\n",
    "<img src=\"Pictures/create_network.gif\" height=\"500\" width=\"500\" align=\"left\">"
   ]
  },
  {
   "cell_type": "code",
   "execution_count": null,
   "metadata": {},
   "outputs": [],
   "source": [
    "New-HPOVNetwork -Name \"Roundtable - Test Ethernet Network\" -VlanId 200 -Type Ethernet -VLANType Tagged -Purpose General -SmartLink $False -PrivateNetwork $False  "
   ]
  },
  {
   "cell_type": "markdown",
   "metadata": {},
   "source": [
    "### create bulk network\n",
    "How to setup multiple networks at once."
   ]
  },
  {
   "cell_type": "code",
   "execution_count": null,
   "metadata": {},
   "outputs": [],
   "source": [
    "$net = @(1,2,3,4,5,7,100,101,102,103,104,105,106,107,108,109,200)  \n",
    "foreach ($i in $net) { New-HPOVNetwork -Name \"Bulk_$i\" -VlanId $i -Type Ethernet -VLANType Tagged } "
   ]
  },
  {
   "cell_type": "markdown",
   "metadata": {},
   "source": [
    "### delete bulk network\n",
    "as it´s not needed for the demo"
   ]
  },
  {
   "cell_type": "code",
   "execution_count": null,
   "metadata": {},
   "outputs": [],
   "source": [
    "Get-HPOVNetwork -name \"bulk*\" | Remove-HPOVNetwork -Confirm:$false"
   ]
  },
  {
   "cell_type": "markdown",
   "metadata": {},
   "source": [
    "### show configured/existing storage (systems and pools)\n",
    "\n",
    "<img src=\"Pictures/show_storage.gif\" height=\"500\" width=\"500\" align=\"left\">"
   ]
  },
  {
   "cell_type": "code",
   "execution_count": null,
   "metadata": {},
   "outputs": [],
   "source": [
    "Get-HPOVStorageSystem\n"
   ]
  },
  {
   "cell_type": "code",
   "execution_count": null,
   "metadata": {},
   "outputs": [],
   "source": [
    "Get-HPOVStoragePool  | select Name, URI "
   ]
  },
  {
   "cell_type": "markdown",
   "metadata": {},
   "source": [
    "### show volume templates"
   ]
  },
  {
   "cell_type": "code",
   "execution_count": null,
   "metadata": {},
   "outputs": [],
   "source": [
    "Get-HPOVStorageVolumeTemplate"
   ]
  },
  {
   "cell_type": "markdown",
   "metadata": {},
   "source": [
    "### create volume template\n",
    "\n",
    "<img src=\"Pictures/create_volume_template.gif\" height=\"500\" width=\"500\" align=\"left\">"
   ]
  },
  {
   "cell_type": "code",
   "execution_count": null,
   "metadata": {},
   "outputs": [],
   "source": [
    "$StorPool=Get-HPOVStoragePool -Name \"FC_r5\" -StorageSystem 3par20k \n",
    "New-HPOVStorageVolumeTemplate -Name \"Roundtable Volume Template\" -StoragePool $StorPool -Capacity 10240 "
   ]
  },
  {
   "cell_type": "markdown",
   "metadata": {},
   "source": [
    "### show Enclosure / Server Hardware / Bay\n",
    "<img src=\"Pictures/show_server_hw.gif\" height=\"500\" width=\"500\" align=\"left\">"
   ]
  },
  {
   "cell_type": "code",
   "execution_count": null,
   "metadata": {},
   "outputs": [],
   "source": [
    "Get-HPOVEnclosureGroup "
   ]
  },
  {
   "cell_type": "code",
   "execution_count": null,
   "metadata": {},
   "outputs": [],
   "source": [
    "Get-HPOVServerHardwareType"
   ]
  },
  {
   "cell_type": "code",
   "execution_count": null,
   "metadata": {},
   "outputs": [],
   "source": [
    "Get-HPOVServer | select Name, URI"
   ]
  },
  {
   "cell_type": "markdown",
   "metadata": {},
   "source": [
    "#### show Serverprofile"
   ]
  },
  {
   "cell_type": "code",
   "execution_count": null,
   "metadata": {},
   "outputs": [],
   "source": [
    "Get-HPOVServerProfileTemplate|select Name, URI "
   ]
  },
  {
   "cell_type": "code",
   "execution_count": null,
   "metadata": {},
   "outputs": [],
   "source": [
    "Get-HPOVServerProfile|select Name, URI"
   ]
  },
  {
   "cell_type": "markdown",
   "metadata": {},
   "source": [
    "### create server profile (takes 2-3 minutes)\n",
    "<br>\n",
    "<img src=\"Pictures/boot_synergy.gif\" height=\"500\" width=\"500\" align=\"left\">"
   ]
  },
  {
   "cell_type": "code",
   "execution_count": 4,
   "metadata": {},
   "outputs": [
    {
     "name": "stdout",
     "output_type": "stream",
     "text": [
      "\n",
      "#Power off Server if on\n",
      "Stop-HPOVServer -Server $Server -Force -Confirm:$false | Wait-HPOVTaskComplete\n"
     ]
    }
   ],
   "source": [
    "### Get the first available server based on the template configuration\n",
    "##$Server = Get-HPOVServer -InputObject $ServerProfileTemplate -NoProfile | Select -First 1\n",
    "\n",
    "$Server=Get-HPOVServer -Name \"CTC Synergy HE01, bay 8\"\n",
    "\n",
    "#Power off Server if on\n",
    "Stop-HPOVServer -Server $Server -Force -Confirm:$false | Wait-HPOVTaskComplete\n",
    "\n",
    "$Template=Get-HPOVServerProfileTemplate -Name \"Roundtable - Python (DirkD)\"\n",
    "$OSDeploymentPlanName=\"RHEL 7.3 - customizable\"\n",
    "\n",
    "# Get the OS Deployment Plan\n",
    "$OSDeploymentPlan = Get-HPOVOSDeploymentPlan -Name $OSDeploymentPlanName -ErrorAction Stop\n",
    "\n",
    "# Get the associated deployment plan attributes\n",
    "##$OSDeploymentAttributes = Get-HPOVOSDeploymentPlanAttribute -InputObject $OSDeploymentPlan -ErrorAction Stop\n",
    "$OSDeploymentAttributes = Get-HPOVOSDeploymentPlanAttribute -InputObject $Template\n",
    "\n",
    "($OSDeploymentAttributes | Where-Object name -eq \"NewUser\").value = \"dirk\"\n",
    "($OSDeploymentAttributes | Where-Object name -eq \"NewUserPassword\").value = \"HalloRoundTable!\"\n",
    "\n",
    "# Set root password, in clear text here, as OneView does not support secure string data types\n",
    "#($OSDeploymentAttributes | Where-Object name -eq \"NewRootPassword\").value = [Runtime.InteropServices.Marshal]::PtrToStringAuto([Runtime.InteropServices.Marshal]::SecureStringToBSTR($Password))\n",
    "($OSDeploymentAttributes | Where-Object name -eq \"NewRootPassword\").value = \"Passw0rd\"\n",
    "\n",
    "# Set Hostname\n",
    "#($OSDeploymentAttributes | Where-Object name -eq \"Hostname\").value = $ServerProfileName\n",
    "($OSDeploymentAttributes | Where-Object name -eq \"Hostname\").value = \"anyhostname\"\n",
    "\n",
    "\n",
    "$params = @{\n",
    "        AssignmentType        = \"Server\";\n",
    "        Description           = \"HPE Synergy 480  Server \";\n",
    "        Name                  = \"Roundtable - API Demo Server (DirkD)2\";\n",
    "        Server                = $Server;\n",
    "        ServerProfileTemplate = $Template;\n",
    "        OSDeploymentAttributes = $OSDeploymentAttributes;\n",
    "        OSDeploymentPlan = $OSDeploymentPlan\n",
    "}\n",
    "\n",
    "New-HPOVServerProfile @params | Wait-HPOVTaskComplete\n",
    "\n",
    "\n",
    "#Power on Server\n",
    "Start-HPOVServer -Server $Server -Confirm:$false  \n"
   ]
  },
  {
   "cell_type": "code",
   "execution_count": null,
   "metadata": {},
   "outputs": [],
   "source": []
  }
 ],
 "metadata": {
  "kernelspec": {
   "display_name": "PowerShell",
   "language": "powershell",
   "name": "powershell"
  },
  "language_info": {
   "codemirror_mode": "shell",
   "file_extension": ".ps1",
   "mimetype": "text/x-sh",
   "name": "powershell"
  }
 },
 "nbformat": 4,
 "nbformat_minor": 2
}
