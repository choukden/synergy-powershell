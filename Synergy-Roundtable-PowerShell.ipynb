{
 "cells": [
  {
   "cell_type": "markdown",
   "metadata": {},
   "source": [
    "# Welcome to the Synergy Roundtable\n",
    "created by Stephan Koch & Dirk Derichsweiler - 01/11/2018<br>\n",
    "do not hesitate to contact us: stephan.koch@hpe.com or dirk.derichsweiler@hpe.com\n",
    "\n",
    "\n",
    "\n",
    "jupyter Notebook can be found: https://github.com/dderichswei/synergy\n",
    "\n",
    "\n",
    "#### requirements\n",
    "- Anaconda (Python) recommended (for the Jupyter installation and pip)\n",
    "- Jupyter-Powershell (https://github.com/vors/jupyter-powershell)\n",
    "\n",
    "\n",
    "#### additional information\n",
    "\n",
    "On your HPE OneView appliance, or online<br>\n",
    "https://10.0.20.50/help/cic-rest/en/content/index.html#home.html<br>\n",
    "https://10.0.20.50/api-docs/current/ <br>\n",
    "http://www.hpe.com/info/oneview/docs <br>\n",
    "https://developer.hpe.com/\n",
    "\n",
    "#### Powershell (POSH) specific\n",
    "https://github.com/HewlettPackard/POSH-HPOneView<br>\n",
    "\n",
    "\n",
    "\n",
    "### Installation of HP OneView Module\n",
    "only required, if not installed yet."
   ]
  },
  {
   "cell_type": "code",
   "execution_count": 1,
   "metadata": {
    "scrolled": true
   },
   "outputs": [
    {
     "name": "stdout",
     "output_type": "stream",
     "text": [
      "Start-Process powershell -ArgumentList \"Install-Module HPOneView.410 -AllowClobber -Verb runAs\"\n",
      "Start-Process powershell -ArgumentList \"Set-ExecutionPolicy RemoteSigned -Scope CurrentUser\"\n"
     ]
    }
   ],
   "source": [
    "Start-Process powershell -ArgumentList \"Install-Module HPOneView.410 -AllowClobber -Verb runAs\"\n",
    "Start-Process powershell -ArgumentList \"Set-ExecutionPolicy RemoteSigned -Scope CurrentUser\""
   ]
  },
  {
   "cell_type": "markdown",
   "metadata": {},
   "source": [
    "\n",
    "### Login\n",
    "\n",
    "<img src=\"Pictures/Login.gif\" height=\"500\" width=\"500\" align=\"left\">"
   ]
  },
  {
   "cell_type": "markdown",
   "metadata": {},
   "source": [
    "#### import the PowerShell module:"
   ]
  },
  {
   "cell_type": "code",
   "execution_count": 2,
   "metadata": {},
   "outputs": [
    {
     "name": "stdout",
     "output_type": "stream",
     "text": [
      "\n"
     ]
    }
   ],
   "source": [
    "Import-Module -name hponeview.410 "
   ]
  },
  {
   "cell_type": "markdown",
   "metadata": {},
   "source": [
    "#### login:"
   ]
  },
  {
   "cell_type": "code",
   "execution_count": 4,
   "metadata": {},
   "outputs": [
    {
     "name": "stdout",
     "output_type": "stream",
     "text": [
      "\n",
      "ConnectionID Name       UserName AuthLoginDomain Default\n",
      "------------ ----       -------- --------------- -------\n",
      "1            10.0.20.50 python   local           True   \n",
      "\n",
      "\n"
     ]
    }
   ],
   "source": [
    "Connect-HPOVMgmt -Hostname 10.0.20.50 -AuthLoginDomain local -UserName python -Password python123!"
   ]
  },
  {
   "cell_type": "markdown",
   "metadata": {},
   "source": [
    "#### ADVANCED: which functions are available?"
   ]
  },
  {
   "cell_type": "code",
   "execution_count": null,
   "metadata": {},
   "outputs": [],
   "source": [
    "Get-Command -Module HPOneView.410 "
   ]
  },
  {
   "cell_type": "markdown",
   "metadata": {},
   "source": [
    "### show existing networks\n",
    "\n",
    "<img src=\"Pictures/show_network.gif\" height=\"500\" width=\"500\" align=\"left\">\n",
    "<br>"
   ]
  },
  {
   "cell_type": "code",
   "execution_count": null,
   "metadata": {},
   "outputs": [],
   "source": [
    "Get-HPOVNetwork"
   ]
  },
  {
   "cell_type": "markdown",
   "metadata": {},
   "source": [
    "### create network\n",
    "\n",
    "<img src=\"Pictures/create_network.gif\" height=\"500\" width=\"500\" align=\"left\">"
   ]
  },
  {
   "cell_type": "code",
   "execution_count": 6,
   "metadata": {},
   "outputs": [
    {
     "name": "stdout",
     "output_type": "stream",
     "text": [
      "New-HPOVNetwork : One or more networks failed the creation attempt!\n",
      "At line:1 char:1\n",
      "+ New-HPOVNetwork -Name \"Roundtable - Test Ethernet Network\" -VlanId 20 ...\n",
      "+ ~~~~~~~~~~~~~~~~~~~~~~~~~~~~~~~~~~~~~~~~~~~~~~~~~~~~~~~~~~~~~~~~~~~~~\n",
      "    + CategoryInfo          : NotSpecified: (:) [Write-Error], WriteErrorException\n",
      "    + FullyQualifiedErrorId : Microsoft.PowerShell.Commands.WriteErrorException,New-HPOVNetwork\n",
      " \n",
      "\n",
      "Name                               Status Details                                                                     \n",
      "----                               ------ -------                                                                     \n",
      "Roundtable - Test Ethernet Network Failed A network with the name Roundtable - Test Ethernet Network already exists.  \n",
      "\n",
      "\n"
     ]
    }
   ],
   "source": [
    "New-HPOVNetwork -Name \"Roundtable - Test Ethernet Network\" -VlanId 200 -Type Ethernet -VLANType Tagged -Purpose General -SmartLink $False -PrivateNetwork $False  "
   ]
  },
  {
   "cell_type": "markdown",
   "metadata": {},
   "source": [
    "### create bulk network\n",
    "How to setup multiple networks at once."
   ]
  },
  {
   "cell_type": "code",
   "execution_count": null,
   "metadata": {},
   "outputs": [],
   "source": [
    "$net = @(1,2,3,4,5,7,100,101,102,103,104,105,106,107,108,109,200)  \n",
    "foreach ($i in $net) { New-HPOVNetwork -Name \"Bulk_$i\" -VlanId $i -Type Ethernet -VLANType Tagged } "
   ]
  },
  {
   "cell_type": "markdown",
   "metadata": {},
   "source": [
    "### delete bulk network\n",
    "as it´s not needed for the demo"
   ]
  },
  {
   "cell_type": "code",
   "execution_count": null,
   "metadata": {},
   "outputs": [],
   "source": [
    "Get-HPOVNetwork -name \"bulk*\" | Remove-HPOVNetwork -Confirm:$false"
   ]
  },
  {
   "cell_type": "markdown",
   "metadata": {},
   "source": [
    "### show configured/existing storage (systems and pools)\n",
    "\n",
    "<img src=\"Pictures/show_storage.gif\" height=\"500\" width=\"500\" align=\"left\">"
   ]
  },
  {
   "cell_type": "code",
   "execution_count": null,
   "metadata": {},
   "outputs": [],
   "source": [
    "Get-HPOVStorageSystem\n"
   ]
  },
  {
   "cell_type": "code",
   "execution_count": null,
   "metadata": {},
   "outputs": [],
   "source": [
    "Get-HPOVStoragePool  | select Name, URI "
   ]
  },
  {
   "cell_type": "markdown",
   "metadata": {},
   "source": [
    "### show volume templates"
   ]
  },
  {
   "cell_type": "code",
   "execution_count": null,
   "metadata": {},
   "outputs": [],
   "source": [
    "Get-HPOVStorageVolumeTemplate"
   ]
  },
  {
   "cell_type": "markdown",
   "metadata": {},
   "source": [
    "### create volume template\n",
    "\n",
    "<img src=\"Pictures/create_volume_template.gif\" height=\"500\" width=\"500\" align=\"left\">"
   ]
  },
  {
   "cell_type": "code",
   "execution_count": null,
   "metadata": {},
   "outputs": [],
   "source": [
    "$StorPool=Get-HPOVStoragePool -Name \"FC_r5\" -StorageSystem 3par20k \n",
    "New-HPOVStorageVolumeTemplate -Name \"Roundtable Volume Template\" -StoragePool $StorPool -Capacity 10240 "
   ]
  },
  {
   "cell_type": "markdown",
   "metadata": {},
   "source": [
    "### show Enclosure / Server Hardware / Bay\n",
    "<img src=\"Pictures/show_server_hw.gif\" height=\"500\" width=\"500\" align=\"left\">"
   ]
  },
  {
   "cell_type": "code",
   "execution_count": null,
   "metadata": {},
   "outputs": [],
   "source": [
    "Get-HPOVEnclosureGroup "
   ]
  },
  {
   "cell_type": "code",
   "execution_count": null,
   "metadata": {},
   "outputs": [],
   "source": [
    "Get-HPOVServerHardwareType"
   ]
  },
  {
   "cell_type": "code",
   "execution_count": 8,
   "metadata": {},
   "outputs": [
    {
     "name": "stdout",
     "output_type": "stream",
     "text": [
      "\n",
      "name                     uri                                                       \n",
      "----                     ---                                                       \n",
      "CTC Synergy HE01, bay 1  /rest/server-hardware/39313738-3134-5A43-4A37-343030373531\n",
      "CTC Synergy HE01, bay 2  /rest/server-hardware/39313738-3134-5A43-4A37-343030373535\n",
      "CTC Synergy HE01, bay 3  /rest/server-hardware/39313738-3134-5A43-4A37-343030373536\n",
      "CTC Synergy HE01, bay 7  /rest/server-hardware/39313738-3134-5A43-4A37-343030373534\n",
      "CTC Synergy HE01, bay 8  /rest/server-hardware/39313738-3134-5A43-4A37-343030373532\n",
      "CTC Synergy HE01, bay 9  /rest/server-hardware/39313738-3134-5A43-4A37-343030373533\n",
      "CTC Synergy HE11, bay 10 /rest/server-hardware/33323337-3235-5A43-3337-303948545656\n",
      "CTC Synergy HE11, bay 2  /rest/server-hardware/33323337-3235-5A43-3337-30394854524D\n",
      "CTC Synergy HE11, bay 3  /rest/server-hardware/33323337-3235-5A43-3337-303948545332\n",
      "CTC Synergy HE11, bay 4  /rest/server-hardware/33323337-3235-5A43-3337-303948545345\n",
      "CTC Synergy HE11, bay 5  /rest/server-hardware/33323337-3235-5A43-3337-303948545438\n",
      "CTC Synergy HE11, bay 6  /rest/server-hardware/33323337-3235-5A43-3337-303948545356\n",
      "CTC Synergy HE11, bay 7  /rest/server-hardware/33323337-3235-5A43-3337-30394854544D\n",
      "CTC Synergy HE11, bay 8  /rest/server-hardware/33323337-3235-5A43-3337-303948545632\n",
      "CTC Synergy HE11, bay 9  /rest/server-hardware/33323337-3235-5A43-3337-303948545645\n",
      "CTC Synergy HE21, bay 1  /rest/server-hardware/36343537-3338-4E43-3736-303230383144\n",
      "CTC Synergy HE21, bay 10 /rest/server-hardware/33323337-3235-5A43-3337-303948545238\n",
      "CTC Synergy HE21, bay 2  /rest/server-hardware/36343537-3338-4E43-3736-303230355931\n",
      "CTC Synergy HE21, bay 3  /rest/server-hardware/39313738-3234-5A43-4A37-343030373559\n",
      "CTC Synergy HE21, bay 4  /rest/server-hardware/39313738-3234-5A43-4A37-343030373558\n",
      "CTC Synergy HE21, bay 5  /rest/server-hardware/39313738-3133-5A43-4A37-343030373931\n",
      "CTC Synergy HE21, bay 6  /rest/server-hardware/30373737-3237-4E43-3735-353030335447\n",
      "\n",
      "\n",
      "Get-HPOVServer"
     ]
    }
   ],
   "source": [
    "Get-HPOVServer | select Name, URI"
   ]
  },
  {
   "cell_type": "markdown",
   "metadata": {},
   "source": [
    "#### show Serverprofile"
   ]
  },
  {
   "cell_type": "code",
   "execution_count": null,
   "metadata": {},
   "outputs": [],
   "source": [
    "Get-HPOVServerProfileTemplate|select Name, URI "
   ]
  },
  {
   "cell_type": "code",
   "execution_count": null,
   "metadata": {},
   "outputs": [],
   "source": [
    "Get-HPOVServerProfile|select Name, URI"
   ]
  },
  {
   "cell_type": "markdown",
   "metadata": {},
   "source": [
    "### create server profile (takes 2-3 minutes)\n",
    "<br>\n",
    "<img src=\"Pictures/boot_synergy.gif\" height=\"500\" width=\"500\" align=\"left\">"
   ]
  },
  {
   "cell_type": "code",
   "execution_count": 11,
   "metadata": {},
   "outputs": [
    {
     "name": "stdout",
     "output_type": "stream",
     "text": [
      "\n",
      "#Power off Server if on\n",
      "Stop-HPOVServer -Server $Server -Force -Confirm:$false | Wait-HPOVTaskComplete\n",
      "\n",
      "$Template=Get-HPOVServerProfileTemplate -Name \"CTC RHEL 7.6 AD+Docker SPT\"\n",
      "Get-HPOVServerProfileTemplate : The specified Server Profile Template 'CTC RHEL 7.6 AD+Docker SPT' was not found on \n",
      "'10.0.20.50' appliance connection. Please check the name again, and try again.\n",
      "At line:1 char:11\n",
      "+ $Template=Get-HPOVServerProfileTemplate -Name \"CTC RHEL 7.6 AD+Docker ...\n",
      "+           ~~~~~~~~~~~~~~~~~~~~~~~~~~~~~~~~~~~~~~~~~~~~~~~~~~~~~~~~~~~\n",
      "    + CategoryInfo          : ObjectNotFound: (Name:String) [Get-HPOVServerProfileTemplate], ServerProfileResourceExce \n",
      "   ption\n",
      "    + FullyQualifiedErrorId : ServerProfileResourceNotFound,Get-HPOVServerProfileTemplate\n",
      " \n",
      "$OSDeploymentPlanName=\"CTC - RHEL 7.6 AD+Docker\"\n",
      "\n",
      "# Get the OS Deployment Plan\n",
      "$OSDeploymentPlan = Get-HPOVOSDeploymentPlan -Name $OSDeploymentPlanName -ErrorAction Stop\n",
      "Get-HPOVOSDeploymentPlan : OS Deployment Plan \"CTC - RHEL 7.6 AD+Docker\" was not found on \"10.0.20.50\" appliance \n",
      "connection.\n",
      "At line:1 char:21\n",
      "+ ... ymentPlan = Get-HPOVOSDeploymentPlan -Name $OSDeploymentPlanName -Err ...\n",
      "+                 ~~~~~~~~~~~~~~~~~~~~~~~~~~~~~~~~~~~~~~~~~~~~~~~~~~~~~~~~~\n",
      "    + CategoryInfo          : ObjectNotFound: (Name:String) [Get-HPOVOSDeploymentPlan], ImageStreamerResourceException\n",
      "    + FullyQualifiedErrorId : ResourceNotFound,Get-HPOVOSDeploymentPlan\n",
      " \n",
      "\n",
      "# Get the associated deployment plan attributes\n",
      "##$OSDeploymentAttributes = Get-HPOVOSDeploymentPlanAttribute -InputObject $OSDeploymentPlan -ErrorAction Stop\n",
      "$OSDeploymentAttributes = Get-HPOVOSDeploymentPlanAttribute -InputObject $Template\n",
      "Get-HPOVOSDeploymentPlanAttribute : Cannot validate argument on parameter 'InputObject'. The argument is null or \n",
      "empty. Provide an argument that is not null or empty, and then try the command again.\n",
      "At line:1 char:74\n",
      "+ ... Attributes = Get-HPOVOSDeploymentPlanAttribute -InputObject $Template\n",
      "+                                                                 ~~~~~~~~~\n",
      "    + CategoryInfo          : InvalidData: (:) [Get-HPOVOSDeploymentPlanAttribute], ParameterBindingValidationExceptio \n",
      "   n\n",
      "    + FullyQualifiedErrorId : ParameterArgumentValidationError,Get-HPOVOSDeploymentPlanAttribute\n",
      " \n",
      "\n",
      "($OSDeploymentAttributes | Where-Object name -eq \"NewUser\").value = \"dirk\"\n",
      "The property 'value' cannot be found on this object. Verify that the property exists and can be set.\n",
      "At line:1 char:1\n",
      "+ ($OSDeploymentAttributes | Where-Object name -eq \"NewUser\").value = \" ...\n",
      "+ ~~~~~~~~~~~~~~~~~~~~~~~~~~~~~~~~~~~~~~~~~~~~~~~~~~~~~~~~~~~~~~~~~~~~~\n",
      "    + CategoryInfo          : InvalidOperation: (:) [], RuntimeException\n",
      "    + FullyQualifiedErrorId : PropertyNotFound\n",
      " \n",
      "($OSDeploymentAttributes | Where-Object name -eq \"NewUserPassword\").value = \"HalloRoundTable!\"\n",
      "The property 'value' cannot be found on this object. Verify that the property exists and can be set.\n",
      "At line:1 char:1\n",
      "+ ($OSDeploymentAttributes | Where-Object name -eq \"NewUserPassword\").v ...\n",
      "+ ~~~~~~~~~~~~~~~~~~~~~~~~~~~~~~~~~~~~~~~~~~~~~~~~~~~~~~~~~~~~~~~~~~~~~\n",
      "    + CategoryInfo          : InvalidOperation: (:) [], RuntimeException\n",
      "    + FullyQualifiedErrorId : PropertyNotFound\n",
      " \n",
      "\n",
      "# Set root password, in clear text here, as OneView does not support secure string data types\n",
      "#($OSDeploymentAttributes | Where-Object name -eq \"NewRootPassword\").value = [Runtime.InteropServices.Marshal]::PtrToStringAuto([Runtime.InteropServices.Marshal]::SecureStringToBSTR($Password))\n",
      "($OSDeploymentAttributes | Where-Object name -eq \"NewRootPassword\").value = \"Passw0rd\"\n",
      "The property 'value' cannot be found on this object. Verify that the property exists and can be set.\n",
      "At line:1 char:1\n",
      "+ ($OSDeploymentAttributes | Where-Object name -eq \"NewRootPassword\").v ...\n",
      "+ ~~~~~~~~~~~~~~~~~~~~~~~~~~~~~~~~~~~~~~~~~~~~~~~~~~~~~~~~~~~~~~~~~~~~~\n",
      "    + CategoryInfo          : InvalidOperation: (:) [], RuntimeException\n",
      "    + FullyQualifiedErrorId : PropertyNotFound\n",
      " \n",
      "\n",
      "# Set Hostname\n",
      "#($OSDeploymentAttributes | Where-Object name -eq \"Hostname\").value = $ServerProfileName\n",
      "($OSDeploymentAttributes | Where-Object name -eq \"Hostname\").value = \"anyhostname\"\n",
      "The property 'value' cannot be found on this object. Verify that the property exists and can be set.\n",
      "At line:1 char:1\n",
      "+ ($OSDeploymentAttributes | Where-Object name -eq \"Hostname\").value =  ...\n",
      "+ ~~~~~~~~~~~~~~~~~~~~~~~~~~~~~~~~~~~~~~~~~~~~~~~~~~~~~~~~~~~~~~~~~~~~~\n",
      "    + CategoryInfo          : InvalidOperation: (:) [], RuntimeException\n",
      "    + FullyQualifiedErrorId : PropertyNotFound\n",
      " \n",
      "\n",
      "\n",
      "$params = @{\n",
      ">>         AssignmentType        = \"Server\";\n",
      ">>         Description           = \"HPE Synergy 480  Server \";\n",
      ">>         Name                  = \"Roundtable - API Demo Server (Stephan by POSH)\";\n",
      ">>         Server                = $Server;\n",
      ">>         ServerProfileTemplate = $Template;\n",
      ">>         OSDeploymentAttributes = $OSDeploymentAttributes;\n",
      ">>         OSDeploymentPlan = $OSDeploymentPlan\n",
      ">> }\n",
      ">> \n",
      "New-HPOVServerProfile @params | Wait-HPOVTaskComplete\n",
      "New-HPOVServerProfile : Cannot bind argument to parameter 'ServerProfileTemplate' because it is null.\n",
      "At line:1 char:23\n",
      "+ New-HPOVServerProfile @params | Wait-HPOVTaskComplete\n",
      "+                       ~~~~~~~\n",
      "    + CategoryInfo          : InvalidData: (:) [New-HPOVServerProfile], ParameterBindingValidationException\n",
      "    + FullyQualifiedErrorId : ParameterArgumentValidationErrorNullNotAllowed,New-HPOVServerProfile\n",
      " \n",
      "\n",
      "#Power on Server\n",
      "Start-HPOVServer -Server $Server  \n"
     ]
    }
   ],
   "source": [
    "### Get the first available server based on the template configuration\n",
    "##$Server = Get-HPOVServer -InputObject $ServerProfileTemplate -NoProfile | Select -First 1\n",
    "\n",
    "$Server=Get-HPOVServer -Name \"CTC Synergy HE11, bay 8\"\n",
    "\n",
    "#Power off Server if on\n",
    "Stop-HPOVServer -Server $Server -Force -Confirm:$false | Wait-HPOVTaskComplete\n",
    "\n",
    "#use * instead of \"+\" in string\n",
    "$Template=Get-HPOVServerProfileTemplate -Name \"CTC RHEL 7.6 AD*Docker SPT\"\n",
    "$OSDeploymentPlanName=\"CTC - RHEL 7.6 AD*Docker\"\n",
    "\n",
    "# Get the OS Deployment Plan\n",
    "$OSDeploymentPlan = Get-HPOVOSDeploymentPlan -Name $OSDeploymentPlanName -ErrorAction Stop\n",
    "\n",
    "# Get the associated deployment plan attributes\n",
    "##$OSDeploymentAttributes = Get-HPOVOSDeploymentPlanAttribute -InputObject $OSDeploymentPlan -ErrorAction Stop\n",
    "$OSDeploymentAttributes = Get-HPOVOSDeploymentPlanAttribute -InputObject $Template\n",
    "\n",
    "($OSDeploymentAttributes | Where-Object name -eq \"NewUser\").value = \"dirk\"\n",
    "($OSDeploymentAttributes | Where-Object name -eq \"NewUserPassword\").value = \"HalloRoundTable!\"\n",
    "\n",
    "# Set root password, in clear text here, as OneView does not support secure string data types\n",
    "#($OSDeploymentAttributes | Where-Object name -eq \"NewRootPassword\").value = [Runtime.InteropServices.Marshal]::PtrToStringAuto([Runtime.InteropServices.Marshal]::SecureStringToBSTR($Password))\n",
    "($OSDeploymentAttributes | Where-Object name -eq \"NewRootPassword\").value = \"Passw0rd\"\n",
    "\n",
    "# Set Hostname\n",
    "#($OSDeploymentAttributes | Where-Object name -eq \"Hostname\").value = $ServerProfileName\n",
    "($OSDeploymentAttributes | Where-Object name -eq \"Hostname\").value = \"anyhostname\"\n",
    "\n",
    "\n",
    "$params = @{\n",
    "        AssignmentType        = \"Server\";\n",
    "        Description           = \"HPE Synergy 480  Server \";\n",
    "        Name                  = \"Roundtable - API Demo Server (Stephan by POSH)\";\n",
    "        Server                = $Server;\n",
    "        ServerProfileTemplate = $Template;\n",
    "        OSDeploymentAttributes = $OSDeploymentAttributes;\n",
    "        OSDeploymentPlan = $OSDeploymentPlan\n",
    "}\n",
    "\n",
    "New-HPOVServerProfile @params | Wait-HPOVTaskComplete\n",
    "\n",
    "#Power on Server\n",
    "Start-HPOVServer -Server $Server  \n"
   ]
  }
 ],
 "metadata": {
  "kernelspec": {
   "display_name": "PowerShell",
   "language": "powershell",
   "name": "powershell"
  },
  "language_info": {
   "codemirror_mode": "shell",
   "file_extension": ".ps1",
   "mimetype": "text/x-sh",
   "name": "powershell"
  }
 },
 "nbformat": 4,
 "nbformat_minor": 2
}
